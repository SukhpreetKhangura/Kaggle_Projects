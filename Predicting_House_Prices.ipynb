{
 "cells": [
  {
   "cell_type": "markdown",
   "metadata": {},
   "source": [
    "# Predicting House Prices\n",
    "\n",
    "\n",
    "As per the project requirement we are going to follow the following steps:\n",
    "\n",
    "1. Use Case\n",
    "2. Data Set\n",
    "3. Data Quality Assessment\n",
    "4. Data Exploration (e.g. correlation between columns)\n",
    "5. Data Visualization (e.g. value distribution of columns)\n",
    "6. At least one Feature Engineering (e.g. imputing missing values) applied\n",
    "7. Selection and justification of Model Performance Indicator (e.g. F1 score)\n",
    "8. At least one traditional Machine Learning Algorithm and one DeepLearning Algorithm applied and demonstrated\n",
    "9. Model performance between different feature engineerings and models compared and documented"
   ]
  },
  {
   "cell_type": "markdown",
   "metadata": {},
   "source": [
    "# Step 1: UseCase\n",
    "\n",
    "A housing price prediction model can help  the establishment of real estate policies. \n",
    "\n",
    "1. Can we predict the house prices?\n",
    "\n",
    "2. What are the important deciding factors in predicting house prices?\n",
    "\n",
    "__Goal__: The goal of this project is to Predict sales prices of residential homes in Ames."
   ]
  },
  {
   "cell_type": "markdown",
   "metadata": {},
   "source": [
    "# Step 2: DataSet \n",
    "\n",
    "1. The data source is from an  external data source __kaggle__ .\n",
    "\n",
    "\n",
    "2. The data is in the form of CSV   files.\n",
    "\n",
    "3. It consists of 79 feature  variables.\n",
    "\n",
    "4. The dataset is a part of challenge: __House Prices: Advanced Regression Techniques__.\n",
    "\n",
    "5. The goal is to predict the final price of each home.\n",
    "\n",
    "\n",
    "\n"
   ]
  },
  {
   "cell_type": "markdown",
   "metadata": {},
   "source": [
    "We start with Importing necessary all the necessary  libraries"
   ]
  },
  {
   "cell_type": "code",
   "execution_count": 2,
   "metadata": {},
   "outputs": [
    {
     "name": "stderr",
     "output_type": "stream",
     "text": [
      "Using TensorFlow backend.\n"
     ]
    },
    {
     "name": "stdout",
     "output_type": "stream",
     "text": [
      "2.1.0\n"
     ]
    }
   ],
   "source": [
    "from __future__ import absolute_import, division, print_function, unicode_literals\n",
    "\n",
    "import pathlib\n",
    "\n",
    "import matplotlib.pyplot as plt\n",
    "import numpy as np # linear algebra\n",
    "import pandas as pd # data processing, CSV file I/O (e.g. pd.read_csv)\n",
    "import seaborn as sns\n",
    "\n",
    "import tensorflow as tf\n",
    "import tensorflow_docs as tfdocs\n",
    "import tensorflow_docs.plots\n",
    "import tensorflow_docs.modeling\n",
    "from tensorflow import keras\n",
    "from tensorflow.keras import layers\n",
    "\n",
    "from keras import backend as K\n",
    "from keras.models import Sequential\n",
    "from keras.layers import Dense\n",
    "from keras.wrappers.scikit_learn import KerasRegressor\n",
    "\n",
    "\n",
    "\n",
    "from scipy.special import boxcox1p,boxcox, inv_boxcox\n",
    "from scipy.stats import norm, skew, probplot\n",
    "\n",
    "\n",
    "from sklearn.metrics import mean_squared_error, r2_score\n",
    "from sklearn.model_selection import cross_val_score, train_test_split, KFold\n",
    "\n",
    "\n",
    "from sklearn.svm import SVR\n",
    "from sklearn.linear_model import Lasso\n",
    "from sklearn.linear_model import LinearRegression\n",
    "\n",
    "\n",
    "\n",
    "print(tf.__version__)"
   ]
  },
  {
   "cell_type": "markdown",
   "metadata": {},
   "source": [
    "# Step 3a: Data Quality Assessment : Training Set"
   ]
  },
  {
   "cell_type": "markdown",
   "metadata": {},
   "source": [
    "We will evaluate data in order to determine whether it is :\n",
    "    \n",
    "1. of the right type and \n",
    "2. quality  and quanitity of data is sufficient for the required  projects "
   ]
  },
  {
   "cell_type": "code",
   "execution_count": 3,
   "metadata": {},
   "outputs": [
    {
     "name": "stdout",
     "output_type": "stream",
     "text": [
      "(1460, 80)\n"
     ]
    }
   ],
   "source": [
    "train_df  = pd.read_csv(r'D:\\IBM\\Advanced_DS_Capstone\\kaggle_input\\house-prices-advanced-regression-techniques\\train.csv')\n",
    "train=train_df.copy()\n",
    "\n",
    "train_df=train_df.drop('Id', 1) # Drop the ID\n",
    "\n",
    "print(train_df.shape) # we are left with 79 features and 1 target\n"
   ]
  },
  {
   "cell_type": "code",
   "execution_count": 4,
   "metadata": {},
   "outputs": [
    {
     "data": {
      "text/html": [
       "<div>\n",
       "<style scoped>\n",
       "    .dataframe tbody tr th:only-of-type {\n",
       "        vertical-align: middle;\n",
       "    }\n",
       "\n",
       "    .dataframe tbody tr th {\n",
       "        vertical-align: top;\n",
       "    }\n",
       "\n",
       "    .dataframe thead th {\n",
       "        text-align: right;\n",
       "    }\n",
       "</style>\n",
       "<table border=\"1\" class=\"dataframe\">\n",
       "  <thead>\n",
       "    <tr style=\"text-align: right;\">\n",
       "      <th></th>\n",
       "      <th>MSSubClass</th>\n",
       "      <th>MSZoning</th>\n",
       "      <th>LotFrontage</th>\n",
       "      <th>LotArea</th>\n",
       "      <th>Street</th>\n",
       "      <th>Alley</th>\n",
       "      <th>LotShape</th>\n",
       "      <th>LandContour</th>\n",
       "      <th>Utilities</th>\n",
       "      <th>LotConfig</th>\n",
       "      <th>...</th>\n",
       "      <th>PoolArea</th>\n",
       "      <th>PoolQC</th>\n",
       "      <th>Fence</th>\n",
       "      <th>MiscFeature</th>\n",
       "      <th>MiscVal</th>\n",
       "      <th>MoSold</th>\n",
       "      <th>YrSold</th>\n",
       "      <th>SaleType</th>\n",
       "      <th>SaleCondition</th>\n",
       "      <th>SalePrice</th>\n",
       "    </tr>\n",
       "  </thead>\n",
       "  <tbody>\n",
       "    <tr>\n",
       "      <th>0</th>\n",
       "      <td>60</td>\n",
       "      <td>RL</td>\n",
       "      <td>65.0</td>\n",
       "      <td>8450</td>\n",
       "      <td>Pave</td>\n",
       "      <td>NaN</td>\n",
       "      <td>Reg</td>\n",
       "      <td>Lvl</td>\n",
       "      <td>AllPub</td>\n",
       "      <td>Inside</td>\n",
       "      <td>...</td>\n",
       "      <td>0</td>\n",
       "      <td>NaN</td>\n",
       "      <td>NaN</td>\n",
       "      <td>NaN</td>\n",
       "      <td>0</td>\n",
       "      <td>2</td>\n",
       "      <td>2008</td>\n",
       "      <td>WD</td>\n",
       "      <td>Normal</td>\n",
       "      <td>208500</td>\n",
       "    </tr>\n",
       "    <tr>\n",
       "      <th>1</th>\n",
       "      <td>20</td>\n",
       "      <td>RL</td>\n",
       "      <td>80.0</td>\n",
       "      <td>9600</td>\n",
       "      <td>Pave</td>\n",
       "      <td>NaN</td>\n",
       "      <td>Reg</td>\n",
       "      <td>Lvl</td>\n",
       "      <td>AllPub</td>\n",
       "      <td>FR2</td>\n",
       "      <td>...</td>\n",
       "      <td>0</td>\n",
       "      <td>NaN</td>\n",
       "      <td>NaN</td>\n",
       "      <td>NaN</td>\n",
       "      <td>0</td>\n",
       "      <td>5</td>\n",
       "      <td>2007</td>\n",
       "      <td>WD</td>\n",
       "      <td>Normal</td>\n",
       "      <td>181500</td>\n",
       "    </tr>\n",
       "    <tr>\n",
       "      <th>2</th>\n",
       "      <td>60</td>\n",
       "      <td>RL</td>\n",
       "      <td>68.0</td>\n",
       "      <td>11250</td>\n",
       "      <td>Pave</td>\n",
       "      <td>NaN</td>\n",
       "      <td>IR1</td>\n",
       "      <td>Lvl</td>\n",
       "      <td>AllPub</td>\n",
       "      <td>Inside</td>\n",
       "      <td>...</td>\n",
       "      <td>0</td>\n",
       "      <td>NaN</td>\n",
       "      <td>NaN</td>\n",
       "      <td>NaN</td>\n",
       "      <td>0</td>\n",
       "      <td>9</td>\n",
       "      <td>2008</td>\n",
       "      <td>WD</td>\n",
       "      <td>Normal</td>\n",
       "      <td>223500</td>\n",
       "    </tr>\n",
       "    <tr>\n",
       "      <th>3</th>\n",
       "      <td>70</td>\n",
       "      <td>RL</td>\n",
       "      <td>60.0</td>\n",
       "      <td>9550</td>\n",
       "      <td>Pave</td>\n",
       "      <td>NaN</td>\n",
       "      <td>IR1</td>\n",
       "      <td>Lvl</td>\n",
       "      <td>AllPub</td>\n",
       "      <td>Corner</td>\n",
       "      <td>...</td>\n",
       "      <td>0</td>\n",
       "      <td>NaN</td>\n",
       "      <td>NaN</td>\n",
       "      <td>NaN</td>\n",
       "      <td>0</td>\n",
       "      <td>2</td>\n",
       "      <td>2006</td>\n",
       "      <td>WD</td>\n",
       "      <td>Abnorml</td>\n",
       "      <td>140000</td>\n",
       "    </tr>\n",
       "    <tr>\n",
       "      <th>4</th>\n",
       "      <td>60</td>\n",
       "      <td>RL</td>\n",
       "      <td>84.0</td>\n",
       "      <td>14260</td>\n",
       "      <td>Pave</td>\n",
       "      <td>NaN</td>\n",
       "      <td>IR1</td>\n",
       "      <td>Lvl</td>\n",
       "      <td>AllPub</td>\n",
       "      <td>FR2</td>\n",
       "      <td>...</td>\n",
       "      <td>0</td>\n",
       "      <td>NaN</td>\n",
       "      <td>NaN</td>\n",
       "      <td>NaN</td>\n",
       "      <td>0</td>\n",
       "      <td>12</td>\n",
       "      <td>2008</td>\n",
       "      <td>WD</td>\n",
       "      <td>Normal</td>\n",
       "      <td>250000</td>\n",
       "    </tr>\n",
       "  </tbody>\n",
       "</table>\n",
       "<p>5 rows × 80 columns</p>\n",
       "</div>"
      ],
      "text/plain": [
       "   MSSubClass MSZoning  LotFrontage  LotArea Street Alley LotShape  \\\n",
       "0          60       RL         65.0     8450   Pave   NaN      Reg   \n",
       "1          20       RL         80.0     9600   Pave   NaN      Reg   \n",
       "2          60       RL         68.0    11250   Pave   NaN      IR1   \n",
       "3          70       RL         60.0     9550   Pave   NaN      IR1   \n",
       "4          60       RL         84.0    14260   Pave   NaN      IR1   \n",
       "\n",
       "  LandContour Utilities LotConfig  ... PoolArea PoolQC Fence MiscFeature  \\\n",
       "0         Lvl    AllPub    Inside  ...        0    NaN   NaN         NaN   \n",
       "1         Lvl    AllPub       FR2  ...        0    NaN   NaN         NaN   \n",
       "2         Lvl    AllPub    Inside  ...        0    NaN   NaN         NaN   \n",
       "3         Lvl    AllPub    Corner  ...        0    NaN   NaN         NaN   \n",
       "4         Lvl    AllPub       FR2  ...        0    NaN   NaN         NaN   \n",
       "\n",
       "  MiscVal MoSold  YrSold  SaleType  SaleCondition  SalePrice  \n",
       "0       0      2    2008        WD         Normal     208500  \n",
       "1       0      5    2007        WD         Normal     181500  \n",
       "2       0      9    2008        WD         Normal     223500  \n",
       "3       0      2    2006        WD        Abnorml     140000  \n",
       "4       0     12    2008        WD         Normal     250000  \n",
       "\n",
       "[5 rows x 80 columns]"
      ]
     },
     "execution_count": 4,
     "metadata": {},
     "output_type": "execute_result"
    }
   ],
   "source": [
    "train_df.head() # To view at the first five rows"
   ]
  },
  {
   "cell_type": "code",
   "execution_count": 5,
   "metadata": {},
   "outputs": [
    {
     "data": {
      "text/html": [
       "<div>\n",
       "<style scoped>\n",
       "    .dataframe tbody tr th:only-of-type {\n",
       "        vertical-align: middle;\n",
       "    }\n",
       "\n",
       "    .dataframe tbody tr th {\n",
       "        vertical-align: top;\n",
       "    }\n",
       "\n",
       "    .dataframe thead th {\n",
       "        text-align: right;\n",
       "    }\n",
       "</style>\n",
       "<table border=\"1\" class=\"dataframe\">\n",
       "  <thead>\n",
       "    <tr style=\"text-align: right;\">\n",
       "      <th></th>\n",
       "      <th>MSSubClass</th>\n",
       "      <th>MSZoning</th>\n",
       "      <th>LotFrontage</th>\n",
       "      <th>LotArea</th>\n",
       "      <th>Street</th>\n",
       "      <th>Alley</th>\n",
       "      <th>LotShape</th>\n",
       "      <th>LandContour</th>\n",
       "      <th>Utilities</th>\n",
       "      <th>LotConfig</th>\n",
       "      <th>...</th>\n",
       "      <th>PoolArea</th>\n",
       "      <th>PoolQC</th>\n",
       "      <th>Fence</th>\n",
       "      <th>MiscFeature</th>\n",
       "      <th>MiscVal</th>\n",
       "      <th>MoSold</th>\n",
       "      <th>YrSold</th>\n",
       "      <th>SaleType</th>\n",
       "      <th>SaleCondition</th>\n",
       "      <th>SalePrice</th>\n",
       "    </tr>\n",
       "  </thead>\n",
       "  <tbody>\n",
       "    <tr>\n",
       "      <th>count</th>\n",
       "      <td>1460.000000</td>\n",
       "      <td>1460</td>\n",
       "      <td>1201.000000</td>\n",
       "      <td>1460.000000</td>\n",
       "      <td>1460</td>\n",
       "      <td>91</td>\n",
       "      <td>1460</td>\n",
       "      <td>1460</td>\n",
       "      <td>1460</td>\n",
       "      <td>1460</td>\n",
       "      <td>...</td>\n",
       "      <td>1460.000000</td>\n",
       "      <td>7</td>\n",
       "      <td>281</td>\n",
       "      <td>54</td>\n",
       "      <td>1460.000000</td>\n",
       "      <td>1460.000000</td>\n",
       "      <td>1460.000000</td>\n",
       "      <td>1460</td>\n",
       "      <td>1460</td>\n",
       "      <td>1460.000000</td>\n",
       "    </tr>\n",
       "    <tr>\n",
       "      <th>unique</th>\n",
       "      <td>NaN</td>\n",
       "      <td>5</td>\n",
       "      <td>NaN</td>\n",
       "      <td>NaN</td>\n",
       "      <td>2</td>\n",
       "      <td>2</td>\n",
       "      <td>4</td>\n",
       "      <td>4</td>\n",
       "      <td>2</td>\n",
       "      <td>5</td>\n",
       "      <td>...</td>\n",
       "      <td>NaN</td>\n",
       "      <td>3</td>\n",
       "      <td>4</td>\n",
       "      <td>4</td>\n",
       "      <td>NaN</td>\n",
       "      <td>NaN</td>\n",
       "      <td>NaN</td>\n",
       "      <td>9</td>\n",
       "      <td>6</td>\n",
       "      <td>NaN</td>\n",
       "    </tr>\n",
       "    <tr>\n",
       "      <th>top</th>\n",
       "      <td>NaN</td>\n",
       "      <td>RL</td>\n",
       "      <td>NaN</td>\n",
       "      <td>NaN</td>\n",
       "      <td>Pave</td>\n",
       "      <td>Grvl</td>\n",
       "      <td>Reg</td>\n",
       "      <td>Lvl</td>\n",
       "      <td>AllPub</td>\n",
       "      <td>Inside</td>\n",
       "      <td>...</td>\n",
       "      <td>NaN</td>\n",
       "      <td>Gd</td>\n",
       "      <td>MnPrv</td>\n",
       "      <td>Shed</td>\n",
       "      <td>NaN</td>\n",
       "      <td>NaN</td>\n",
       "      <td>NaN</td>\n",
       "      <td>WD</td>\n",
       "      <td>Normal</td>\n",
       "      <td>NaN</td>\n",
       "    </tr>\n",
       "    <tr>\n",
       "      <th>freq</th>\n",
       "      <td>NaN</td>\n",
       "      <td>1151</td>\n",
       "      <td>NaN</td>\n",
       "      <td>NaN</td>\n",
       "      <td>1454</td>\n",
       "      <td>50</td>\n",
       "      <td>925</td>\n",
       "      <td>1311</td>\n",
       "      <td>1459</td>\n",
       "      <td>1052</td>\n",
       "      <td>...</td>\n",
       "      <td>NaN</td>\n",
       "      <td>3</td>\n",
       "      <td>157</td>\n",
       "      <td>49</td>\n",
       "      <td>NaN</td>\n",
       "      <td>NaN</td>\n",
       "      <td>NaN</td>\n",
       "      <td>1267</td>\n",
       "      <td>1198</td>\n",
       "      <td>NaN</td>\n",
       "    </tr>\n",
       "    <tr>\n",
       "      <th>mean</th>\n",
       "      <td>56.897260</td>\n",
       "      <td>NaN</td>\n",
       "      <td>70.049958</td>\n",
       "      <td>10516.828082</td>\n",
       "      <td>NaN</td>\n",
       "      <td>NaN</td>\n",
       "      <td>NaN</td>\n",
       "      <td>NaN</td>\n",
       "      <td>NaN</td>\n",
       "      <td>NaN</td>\n",
       "      <td>...</td>\n",
       "      <td>2.758904</td>\n",
       "      <td>NaN</td>\n",
       "      <td>NaN</td>\n",
       "      <td>NaN</td>\n",
       "      <td>43.489041</td>\n",
       "      <td>6.321918</td>\n",
       "      <td>2007.815753</td>\n",
       "      <td>NaN</td>\n",
       "      <td>NaN</td>\n",
       "      <td>180921.195890</td>\n",
       "    </tr>\n",
       "    <tr>\n",
       "      <th>std</th>\n",
       "      <td>42.300571</td>\n",
       "      <td>NaN</td>\n",
       "      <td>24.284752</td>\n",
       "      <td>9981.264932</td>\n",
       "      <td>NaN</td>\n",
       "      <td>NaN</td>\n",
       "      <td>NaN</td>\n",
       "      <td>NaN</td>\n",
       "      <td>NaN</td>\n",
       "      <td>NaN</td>\n",
       "      <td>...</td>\n",
       "      <td>40.177307</td>\n",
       "      <td>NaN</td>\n",
       "      <td>NaN</td>\n",
       "      <td>NaN</td>\n",
       "      <td>496.123024</td>\n",
       "      <td>2.703626</td>\n",
       "      <td>1.328095</td>\n",
       "      <td>NaN</td>\n",
       "      <td>NaN</td>\n",
       "      <td>79442.502883</td>\n",
       "    </tr>\n",
       "    <tr>\n",
       "      <th>min</th>\n",
       "      <td>20.000000</td>\n",
       "      <td>NaN</td>\n",
       "      <td>21.000000</td>\n",
       "      <td>1300.000000</td>\n",
       "      <td>NaN</td>\n",
       "      <td>NaN</td>\n",
       "      <td>NaN</td>\n",
       "      <td>NaN</td>\n",
       "      <td>NaN</td>\n",
       "      <td>NaN</td>\n",
       "      <td>...</td>\n",
       "      <td>0.000000</td>\n",
       "      <td>NaN</td>\n",
       "      <td>NaN</td>\n",
       "      <td>NaN</td>\n",
       "      <td>0.000000</td>\n",
       "      <td>1.000000</td>\n",
       "      <td>2006.000000</td>\n",
       "      <td>NaN</td>\n",
       "      <td>NaN</td>\n",
       "      <td>34900.000000</td>\n",
       "    </tr>\n",
       "    <tr>\n",
       "      <th>25%</th>\n",
       "      <td>20.000000</td>\n",
       "      <td>NaN</td>\n",
       "      <td>59.000000</td>\n",
       "      <td>7553.500000</td>\n",
       "      <td>NaN</td>\n",
       "      <td>NaN</td>\n",
       "      <td>NaN</td>\n",
       "      <td>NaN</td>\n",
       "      <td>NaN</td>\n",
       "      <td>NaN</td>\n",
       "      <td>...</td>\n",
       "      <td>0.000000</td>\n",
       "      <td>NaN</td>\n",
       "      <td>NaN</td>\n",
       "      <td>NaN</td>\n",
       "      <td>0.000000</td>\n",
       "      <td>5.000000</td>\n",
       "      <td>2007.000000</td>\n",
       "      <td>NaN</td>\n",
       "      <td>NaN</td>\n",
       "      <td>129975.000000</td>\n",
       "    </tr>\n",
       "    <tr>\n",
       "      <th>50%</th>\n",
       "      <td>50.000000</td>\n",
       "      <td>NaN</td>\n",
       "      <td>69.000000</td>\n",
       "      <td>9478.500000</td>\n",
       "      <td>NaN</td>\n",
       "      <td>NaN</td>\n",
       "      <td>NaN</td>\n",
       "      <td>NaN</td>\n",
       "      <td>NaN</td>\n",
       "      <td>NaN</td>\n",
       "      <td>...</td>\n",
       "      <td>0.000000</td>\n",
       "      <td>NaN</td>\n",
       "      <td>NaN</td>\n",
       "      <td>NaN</td>\n",
       "      <td>0.000000</td>\n",
       "      <td>6.000000</td>\n",
       "      <td>2008.000000</td>\n",
       "      <td>NaN</td>\n",
       "      <td>NaN</td>\n",
       "      <td>163000.000000</td>\n",
       "    </tr>\n",
       "    <tr>\n",
       "      <th>75%</th>\n",
       "      <td>70.000000</td>\n",
       "      <td>NaN</td>\n",
       "      <td>80.000000</td>\n",
       "      <td>11601.500000</td>\n",
       "      <td>NaN</td>\n",
       "      <td>NaN</td>\n",
       "      <td>NaN</td>\n",
       "      <td>NaN</td>\n",
       "      <td>NaN</td>\n",
       "      <td>NaN</td>\n",
       "      <td>...</td>\n",
       "      <td>0.000000</td>\n",
       "      <td>NaN</td>\n",
       "      <td>NaN</td>\n",
       "      <td>NaN</td>\n",
       "      <td>0.000000</td>\n",
       "      <td>8.000000</td>\n",
       "      <td>2009.000000</td>\n",
       "      <td>NaN</td>\n",
       "      <td>NaN</td>\n",
       "      <td>214000.000000</td>\n",
       "    </tr>\n",
       "    <tr>\n",
       "      <th>max</th>\n",
       "      <td>190.000000</td>\n",
       "      <td>NaN</td>\n",
       "      <td>313.000000</td>\n",
       "      <td>215245.000000</td>\n",
       "      <td>NaN</td>\n",
       "      <td>NaN</td>\n",
       "      <td>NaN</td>\n",
       "      <td>NaN</td>\n",
       "      <td>NaN</td>\n",
       "      <td>NaN</td>\n",
       "      <td>...</td>\n",
       "      <td>738.000000</td>\n",
       "      <td>NaN</td>\n",
       "      <td>NaN</td>\n",
       "      <td>NaN</td>\n",
       "      <td>15500.000000</td>\n",
       "      <td>12.000000</td>\n",
       "      <td>2010.000000</td>\n",
       "      <td>NaN</td>\n",
       "      <td>NaN</td>\n",
       "      <td>755000.000000</td>\n",
       "    </tr>\n",
       "  </tbody>\n",
       "</table>\n",
       "<p>11 rows × 80 columns</p>\n",
       "</div>"
      ],
      "text/plain": [
       "         MSSubClass MSZoning  LotFrontage        LotArea Street Alley  \\\n",
       "count   1460.000000     1460  1201.000000    1460.000000   1460    91   \n",
       "unique          NaN        5          NaN            NaN      2     2   \n",
       "top             NaN       RL          NaN            NaN   Pave  Grvl   \n",
       "freq            NaN     1151          NaN            NaN   1454    50   \n",
       "mean      56.897260      NaN    70.049958   10516.828082    NaN   NaN   \n",
       "std       42.300571      NaN    24.284752    9981.264932    NaN   NaN   \n",
       "min       20.000000      NaN    21.000000    1300.000000    NaN   NaN   \n",
       "25%       20.000000      NaN    59.000000    7553.500000    NaN   NaN   \n",
       "50%       50.000000      NaN    69.000000    9478.500000    NaN   NaN   \n",
       "75%       70.000000      NaN    80.000000   11601.500000    NaN   NaN   \n",
       "max      190.000000      NaN   313.000000  215245.000000    NaN   NaN   \n",
       "\n",
       "       LotShape LandContour Utilities LotConfig  ...     PoolArea PoolQC  \\\n",
       "count      1460        1460      1460      1460  ...  1460.000000      7   \n",
       "unique        4           4         2         5  ...          NaN      3   \n",
       "top         Reg         Lvl    AllPub    Inside  ...          NaN     Gd   \n",
       "freq        925        1311      1459      1052  ...          NaN      3   \n",
       "mean        NaN         NaN       NaN       NaN  ...     2.758904    NaN   \n",
       "std         NaN         NaN       NaN       NaN  ...    40.177307    NaN   \n",
       "min         NaN         NaN       NaN       NaN  ...     0.000000    NaN   \n",
       "25%         NaN         NaN       NaN       NaN  ...     0.000000    NaN   \n",
       "50%         NaN         NaN       NaN       NaN  ...     0.000000    NaN   \n",
       "75%         NaN         NaN       NaN       NaN  ...     0.000000    NaN   \n",
       "max         NaN         NaN       NaN       NaN  ...   738.000000    NaN   \n",
       "\n",
       "        Fence MiscFeature       MiscVal       MoSold       YrSold  SaleType  \\\n",
       "count     281          54   1460.000000  1460.000000  1460.000000      1460   \n",
       "unique      4           4           NaN          NaN          NaN         9   \n",
       "top     MnPrv        Shed           NaN          NaN          NaN        WD   \n",
       "freq      157          49           NaN          NaN          NaN      1267   \n",
       "mean      NaN         NaN     43.489041     6.321918  2007.815753       NaN   \n",
       "std       NaN         NaN    496.123024     2.703626     1.328095       NaN   \n",
       "min       NaN         NaN      0.000000     1.000000  2006.000000       NaN   \n",
       "25%       NaN         NaN      0.000000     5.000000  2007.000000       NaN   \n",
       "50%       NaN         NaN      0.000000     6.000000  2008.000000       NaN   \n",
       "75%       NaN         NaN      0.000000     8.000000  2009.000000       NaN   \n",
       "max       NaN         NaN  15500.000000    12.000000  2010.000000       NaN   \n",
       "\n",
       "        SaleCondition      SalePrice  \n",
       "count            1460    1460.000000  \n",
       "unique              6            NaN  \n",
       "top            Normal            NaN  \n",
       "freq             1198            NaN  \n",
       "mean              NaN  180921.195890  \n",
       "std               NaN   79442.502883  \n",
       "min               NaN   34900.000000  \n",
       "25%               NaN  129975.000000  \n",
       "50%               NaN  163000.000000  \n",
       "75%               NaN  214000.000000  \n",
       "max               NaN  755000.000000  \n",
       "\n",
       "[11 rows x 80 columns]"
      ]
     },
     "execution_count": 5,
     "metadata": {},
     "output_type": "execute_result"
    }
   ],
   "source": [
    "train_df.describe(include='all') # Describing all columns of a DataFrame regardless of data type."
   ]
  },
  {
   "cell_type": "markdown",
   "metadata": {},
   "source": [
    "__Findings__: We can see from the count entries that some features have missing entries. "
   ]
  },
  {
   "cell_type": "markdown",
   "metadata": {},
   "source": [
    "Lets explore the missing entries  further:\n",
    "\n",
    "### 1. Missing entries"
   ]
  },
  {
   "cell_type": "code",
   "execution_count": 6,
   "metadata": {},
   "outputs": [],
   "source": [
    "def missing_entries_plot(df):   \n",
    "    miss_ent = df.isnull().sum()/len(df)*100\n",
    "    \n",
    "    miss_ent = miss_ent[miss_ent>0]\n",
    "    miss_ent.sort_values(inplace=True)\n",
    "    miss_ent_df = miss_ent.to_frame()\n",
    "    \n",
    "    \n",
    "    miss_ent_df.columns = ['Count']\n",
    "    miss_ent_df.index.names = ['Name']\n",
    "    miss_ent_df['Name'] = miss_ent.index\n",
    "    print(miss_ent_df)\n",
    "    print('Total number of  features with  null entries: ', len(miss_ent_df))\n",
    "    #plot the missing value count\n",
    "    sns.set(style=\"whitegrid\", color_codes=True)\n",
    "    sns.barplot(x = 'Name', y = 'Count', data=miss_ent_df)\n",
    "    plt.xticks(rotation = 90)\n",
    "    plt.show()"
   ]
  },
  {
   "cell_type": "code",
   "execution_count": 7,
   "metadata": {},
   "outputs": [
    {
     "name": "stdout",
     "output_type": "stream",
     "text": [
      "                  Count          Name\n",
      "Name                                 \n",
      "Electrical     0.068493    Electrical\n",
      "MasVnrType     0.547945    MasVnrType\n",
      "MasVnrArea     0.547945    MasVnrArea\n",
      "BsmtQual       2.534247      BsmtQual\n",
      "BsmtCond       2.534247      BsmtCond\n",
      "BsmtFinType1   2.534247  BsmtFinType1\n",
      "BsmtExposure   2.602740  BsmtExposure\n",
      "BsmtFinType2   2.602740  BsmtFinType2\n",
      "GarageCond     5.547945    GarageCond\n",
      "GarageQual     5.547945    GarageQual\n",
      "GarageFinish   5.547945  GarageFinish\n",
      "GarageType     5.547945    GarageType\n",
      "GarageYrBlt    5.547945   GarageYrBlt\n",
      "LotFrontage   17.739726   LotFrontage\n",
      "FireplaceQu   47.260274   FireplaceQu\n",
      "Fence         80.753425         Fence\n",
      "Alley         93.767123         Alley\n",
      "MiscFeature   96.301370   MiscFeature\n",
      "PoolQC        99.520548        PoolQC\n",
      "Total number of  features with  null entries:  19\n"
     ]
    },
    {
     "data": {
      "image/png": "[encoded data removed]",
      "text/plain": [
       "<Figure size 432x288 with 1 Axes>"
      ]
     },
     "metadata": {},
     "output_type": "display_data"
    }
   ],
   "source": [
    "train_missing_plot =missing_entries_plot(train_df)"
   ]
  },
  {
   "cell_type": "markdown",
   "metadata": {},
   "source": [
    "### Findings : There are total 19 entries with null entries and 4 entries where 50 % of the data is missing.\n"
   ]
  },
  {
   "cell_type": "markdown",
   "metadata": {},
   "source": [
    "Now analyzing the categorical(Qualitative) and numeric(Quantative)  features separately.\n",
    "\n",
    "### 2. Categorical and numeric data"
   ]
  },
  {
   "cell_type": "code",
   "execution_count": 8,
   "metadata": {},
   "outputs": [],
   "source": [
    "def feature_type(df):\n",
    "    numeric_type=[]\n",
    "    categorical_type=[]\n",
    "    for ent in df.columns:\n",
    "        if( df[ent].dtype == np.float64 or df[ent].dtype == np.int64):\n",
    "                numeric_type.append(ent)\n",
    "        elif ( df[ent].dtype == np.object):\n",
    "                categorical_type.append(ent)\n",
    "    return numeric_type, categorical_type"
   ]
  },
  {
   "cell_type": "code",
   "execution_count": 9,
   "metadata": {},
   "outputs": [
    {
     "name": "stdout",
     "output_type": "stream",
     "text": [
      "The number of numeric features in training dataset are:  37\n",
      "The number of categorical features in training dataset are:  43\n"
     ]
    }
   ],
   "source": [
    "training_numeric_features, training_categorical_features =feature_type(train_df)\n",
    "print('The number of numeric features in training dataset are: ',len(training_numeric_features))\n",
    "print('The number of categorical features in training dataset are: ',len(training_categorical_features))"
   ]
  },
  {
   "cell_type": "code",
   "execution_count": 10,
   "metadata": {},
   "outputs": [
    {
     "name": "stdout",
     "output_type": "stream",
     "text": [
      "Training Numeric features are:  ['MSSubClass', 'LotFrontage', 'LotArea', 'OverallQual', 'OverallCond', 'YearBuilt', 'YearRemodAdd', 'MasVnrArea', 'BsmtFinSF1', 'BsmtFinSF2', 'BsmtUnfSF', 'TotalBsmtSF', '1stFlrSF', '2ndFlrSF', 'LowQualFinSF', 'GrLivArea', 'BsmtFullBath', 'BsmtHalfBath', 'FullBath', 'HalfBath', 'BedroomAbvGr', 'KitchenAbvGr', 'TotRmsAbvGrd', 'Fireplaces', 'GarageYrBlt', 'GarageCars', 'GarageArea', 'WoodDeckSF', 'OpenPorchSF', 'EnclosedPorch', '3SsnPorch', 'ScreenPorch', 'PoolArea', 'MiscVal', 'MoSold', 'YrSold', 'SalePrice']\n"
     ]
    }
   ],
   "source": [
    "print('Training Numeric features are: ', training_numeric_features)\n"
   ]
  },
  {
   "cell_type": "markdown",
   "metadata": {},
   "source": [
    "### Findings:\n",
    "##### As can be seen 'MSSubClass', 'OverallCond', 'YrSold', 'MoSold','GarageYrBlt','YearBuilt','YearRemodAdd' are assigned to numeric data. They can be moved to categorical values. We will take care of this in Feature Engineering Step.\n",
    "\n",
    "Now lets see what is there in categorical features."
   ]
  },
  {
   "cell_type": "code",
   "execution_count": 11,
   "metadata": {},
   "outputs": [
    {
     "name": "stdout",
     "output_type": "stream",
     "text": [
      "Training Categorical features are:  ['MSZoning', 'Street', 'Alley', 'LotShape', 'LandContour', 'Utilities', 'LotConfig', 'LandSlope', 'Neighborhood', 'Condition1', 'Condition2', 'BldgType', 'HouseStyle', 'RoofStyle', 'RoofMatl', 'Exterior1st', 'Exterior2nd', 'MasVnrType', 'ExterQual', 'ExterCond', 'Foundation', 'BsmtQual', 'BsmtCond', 'BsmtExposure', 'BsmtFinType1', 'BsmtFinType2', 'Heating', 'HeatingQC', 'CentralAir', 'Electrical', 'KitchenQual', 'Functional', 'FireplaceQu', 'GarageType', 'GarageFinish', 'GarageQual', 'GarageCond', 'PavedDrive', 'PoolQC', 'Fence', 'MiscFeature', 'SaleType', 'SaleCondition']\n"
     ]
    }
   ],
   "source": [
    "print('Training Categorical features are: ', training_categorical_features)"
   ]
  },
  {
   "cell_type": "markdown",
   "metadata": {},
   "source": [
    "### 3. Skewness check: Skewness defines the lack of symmetry in data. \n",
    "\n",
    "Linear Regression is based on the  assumption of Multivariate normality which  means that regression requires all its variables to be normal.\n",
    "\n",
    "By having skewed data we violate the assumption of normality which effects the performnace of our model.\n",
    "\n",
    "\n",
    "#### 3a. Lets pertform  Normailty test on numeric feature variables first."
   ]
  },
  {
   "cell_type": "code",
   "execution_count": 12,
   "metadata": {},
   "outputs": [],
   "source": [
    "train_numeric_df= train_df[training_numeric_features]"
   ]
  },
  {
   "cell_type": "code",
   "execution_count": 13,
   "metadata": {},
   "outputs": [
    {
     "data": {
      "text/html": [
       "<div>\n",
       "<style scoped>\n",
       "    .dataframe tbody tr th:only-of-type {\n",
       "        vertical-align: middle;\n",
       "    }\n",
       "\n",
       "    .dataframe tbody tr th {\n",
       "        vertical-align: top;\n",
       "    }\n",
       "\n",
       "    .dataframe thead th {\n",
       "        text-align: right;\n",
       "    }\n",
       "</style>\n",
       "<table border=\"1\" class=\"dataframe\">\n",
       "  <thead>\n",
       "    <tr style=\"text-align: right;\">\n",
       "      <th></th>\n",
       "      <th>Skewness</th>\n",
       "    </tr>\n",
       "  </thead>\n",
       "  <tbody>\n",
       "    <tr>\n",
       "      <th>MiscVal</th>\n",
       "      <td>24.451640</td>\n",
       "    </tr>\n",
       "    <tr>\n",
       "      <th>PoolArea</th>\n",
       "      <td>14.813135</td>\n",
       "    </tr>\n",
       "    <tr>\n",
       "      <th>LotArea</th>\n",
       "      <td>12.195142</td>\n",
       "    </tr>\n",
       "    <tr>\n",
       "      <th>3SsnPorch</th>\n",
       "      <td>10.293752</td>\n",
       "    </tr>\n",
       "    <tr>\n",
       "      <th>LowQualFinSF</th>\n",
       "      <td>9.002080</td>\n",
       "    </tr>\n",
       "    <tr>\n",
       "      <th>KitchenAbvGr</th>\n",
       "      <td>4.483784</td>\n",
       "    </tr>\n",
       "    <tr>\n",
       "      <th>BsmtFinSF2</th>\n",
       "      <td>4.250888</td>\n",
       "    </tr>\n",
       "    <tr>\n",
       "      <th>ScreenPorch</th>\n",
       "      <td>4.117977</td>\n",
       "    </tr>\n",
       "    <tr>\n",
       "      <th>BsmtHalfBath</th>\n",
       "      <td>4.099186</td>\n",
       "    </tr>\n",
       "    <tr>\n",
       "      <th>EnclosedPorch</th>\n",
       "      <td>3.086696</td>\n",
       "    </tr>\n",
       "  </tbody>\n",
       "</table>\n",
       "</div>"
      ],
      "text/plain": [
       "                Skewness\n",
       "MiscVal        24.451640\n",
       "PoolArea       14.813135\n",
       "LotArea        12.195142\n",
       "3SsnPorch      10.293752\n",
       "LowQualFinSF    9.002080\n",
       "KitchenAbvGr    4.483784\n",
       "BsmtFinSF2      4.250888\n",
       "ScreenPorch     4.117977\n",
       "BsmtHalfBath    4.099186\n",
       "EnclosedPorch   3.086696"
      ]
     },
     "execution_count": 13,
     "metadata": {},
     "output_type": "execute_result"
    }
   ],
   "source": [
    "skewness = train_numeric_df.apply(lambda x: skew(x.dropna())).sort_values(ascending=False)\n",
    "\n",
    "skewness_df = pd.DataFrame({'Skewness': skewness})\n",
    "\n",
    "skewness_df.head(10)"
   ]
  },
  {
   "cell_type": "markdown",
   "metadata": {},
   "source": [
    "__Findings__: It is clear that our features are also not normally distributed. We will take care of skewness in Feture Engineering Step."
   ]
  },
  {
   "cell_type": "markdown",
   "metadata": {},
   "source": [
    "#### 3b. To check the skewness of the target varaible"
   ]
  },
  {
   "cell_type": "code",
   "execution_count": 14,
   "metadata": {},
   "outputs": [
    {
     "name": "stdout",
     "output_type": "stream",
     "text": [
      "The skewness of the target variable: SalePrice is  1.8828757597682129\n"
     ]
    },
    {
     "data": {
      "image/png": "[encoded data removed]",
      "text/plain": [
       "<Figure size 432x288 with 1 Axes>"
      ]
     },
     "metadata": {},
     "output_type": "display_data"
    }
   ],
   "source": [
    "#SalePrice\n",
    "sns.distplot(train['SalePrice'])\n",
    "print('The skewness of the target variable: SalePrice is ', train['SalePrice'].skew())"
   ]
  },
  {
   "cell_type": "markdown",
   "metadata": {},
   "source": [
    "__Findings__ It is clear from the results that our traget variable is postively skewed. \n",
    "\n",
    "__Solution__ We can  try log transform to see if we can \n",
    "reduce this skewness."
   ]
  },
  {
   "cell_type": "markdown",
   "metadata": {},
   "source": [
    "#### Before  Log Transform"
   ]
  },
  {
   "cell_type": "markdown",
   "metadata": {},
   "source": [
    "\n",
    "1. The plot shows  how the data differs from the normal curve. \n",
    "\n",
    "2. Further we show the  probability plot that  showing  how the SalePrice diverges from the normal distribution."
   ]
  },
  {
   "cell_type": "code",
   "execution_count": 15,
   "metadata": {},
   "outputs": [
    {
     "data": {
      "image/png": "[encoded data removed]",
      "text/plain": [
       "<Figure size 432x288 with 1 Axes>"
      ]
     },
     "metadata": {},
     "output_type": "display_data"
    },
    {
     "data": {
      "image/png": "[encoded data removed]",
      "text/plain": [
       "<Figure size 432x288 with 1 Axes>"
      ]
     },
     "metadata": {},
     "output_type": "display_data"
    }
   ],
   "source": [
    "mu, sigma = norm.fit(train_df['SalePrice'])\n",
    "sns.distplot(train_df['SalePrice'], fit=norm)\n",
    "plt.legend(['Normal distribution ($\\mu=$ {:.2f} and $\\sigma=$ {:.2f} )'.format(mu, sigma)], loc = 'best')\n",
    "plt.ylabel('Frequency')\n",
    "plt.title('Histogram of SalePrice');\n",
    "\n",
    "fig = plt.figure()\n",
    "res = probplot(train_df['SalePrice'], plot=plt);"
   ]
  },
  {
   "cell_type": "markdown",
   "metadata": {},
   "source": [
    "#### After  Log Transform"
   ]
  },
  {
   "cell_type": "code",
   "execution_count": 16,
   "metadata": {},
   "outputs": [
    {
     "data": {
      "image/png": "[encoded data removed]",
      "text/plain": [
       "<Figure size 432x288 with 1 Axes>"
      ]
     },
     "metadata": {},
     "output_type": "display_data"
    },
    {
     "data": {
      "image/png": "[encoded data removed]",
      "text/plain": [
       "<Figure size 432x288 with 1 Axes>"
      ]
     },
     "metadata": {},
     "output_type": "display_data"
    }
   ],
   "source": [
    "train_df['SalePrice_Normal'] = np.log1p(train_df['SalePrice'])\n",
    "\n",
    "mu, sigma = norm.fit(train_df['SalePrice_Normal'])\n",
    "sns.distplot(train_df['SalePrice_Normal'], fit=norm)\n",
    "plt.legend(['Normal distribution ($\\mu=$ {:.2f} and $\\sigma=$ {:.2f} )'.format(mu, sigma)], loc = 'best')\n",
    "plt.ylabel('Frequency')\n",
    "plt.title('Histogram of SalePrice');\n",
    "\n",
    "fig = plt.figure()\n",
    "res = probplot(train_df['SalePrice_Normal'], plot=plt);"
   ]
  },
  {
   "cell_type": "markdown",
   "metadata": {},
   "source": [
    "#### Findings : We have managed to make the SalePrice normalized."
   ]
  },
  {
   "cell_type": "markdown",
   "metadata": {},
   "source": [
    "### 4. Now moving towards categorical features"
   ]
  },
  {
   "cell_type": "markdown",
   "metadata": {},
   "source": [
    "Lets start by exploring Neighborhood , how it is related to SalePrice"
   ]
  },
  {
   "cell_type": "code",
   "execution_count": 17,
   "metadata": {},
   "outputs": [
    {
     "data": {
      "text/plain": [
       "<matplotlib.axes._subplots.AxesSubplot at 0x2aed6b60b00>"
      ]
     },
     "execution_count": 17,
     "metadata": {},
     "output_type": "execute_result"
    },
    {
     "data": {
      "image/png": "[encoded data removed]",
      "text/plain": [
       "<Figure size 432x288 with 1 Axes>"
      ]
     },
     "metadata": {},
     "output_type": "display_data"
    }
   ],
   "source": [
    "train_df['Neighborhood'].value_counts().plot(kind='bar')\n"
   ]
  },
  {
   "cell_type": "markdown",
   "metadata": {},
   "source": [
    "We can see there are 25 Unique Neiborhoods."
   ]
  },
  {
   "cell_type": "markdown",
   "metadata": {},
   "source": [
    "To find the relationship between Neighorhood and SalePrice, we will do the following: \n",
    "\n",
    "1. We will groupby Neighborhood \n",
    "2. Find the mean sale Price correspondingly\n",
    "3. Assign increasing order values to Neighborhood Names"
   ]
  },
  {
   "cell_type": "code",
   "execution_count": 18,
   "metadata": {},
   "outputs": [
    {
     "data": {
      "text/html": [
       "<div>\n",
       "<style scoped>\n",
       "    .dataframe tbody tr th:only-of-type {\n",
       "        vertical-align: middle;\n",
       "    }\n",
       "\n",
       "    .dataframe tbody tr th {\n",
       "        vertical-align: top;\n",
       "    }\n",
       "\n",
       "    .dataframe thead th {\n",
       "        text-align: right;\n",
       "    }\n",
       "</style>\n",
       "<table border=\"1\" class=\"dataframe\">\n",
       "  <thead>\n",
       "    <tr style=\"text-align: right;\">\n",
       "      <th></th>\n",
       "      <th>NameNeighborhood</th>\n",
       "      <th>SalePriceMean</th>\n",
       "      <th>NameNeighborhoodOrder</th>\n",
       "    </tr>\n",
       "    <tr>\n",
       "      <th>NameNeighborhood</th>\n",
       "      <th></th>\n",
       "      <th></th>\n",
       "      <th></th>\n",
       "    </tr>\n",
       "  </thead>\n",
       "  <tbody>\n",
       "    <tr>\n",
       "      <th>MeadowV</th>\n",
       "      <td>MeadowV</td>\n",
       "      <td>98576.470588</td>\n",
       "      <td>1</td>\n",
       "    </tr>\n",
       "    <tr>\n",
       "      <th>IDOTRR</th>\n",
       "      <td>IDOTRR</td>\n",
       "      <td>100123.783784</td>\n",
       "      <td>2</td>\n",
       "    </tr>\n",
       "    <tr>\n",
       "      <th>BrDale</th>\n",
       "      <td>BrDale</td>\n",
       "      <td>104493.750000</td>\n",
       "      <td>3</td>\n",
       "    </tr>\n",
       "    <tr>\n",
       "      <th>BrkSide</th>\n",
       "      <td>BrkSide</td>\n",
       "      <td>124834.051724</td>\n",
       "      <td>4</td>\n",
       "    </tr>\n",
       "    <tr>\n",
       "      <th>Edwards</th>\n",
       "      <td>Edwards</td>\n",
       "      <td>128219.700000</td>\n",
       "      <td>5</td>\n",
       "    </tr>\n",
       "  </tbody>\n",
       "</table>\n",
       "</div>"
      ],
      "text/plain": [
       "                 NameNeighborhood  SalePriceMean  NameNeighborhoodOrder\n",
       "NameNeighborhood                                                       \n",
       "MeadowV                   MeadowV   98576.470588                      1\n",
       "IDOTRR                     IDOTRR  100123.783784                      2\n",
       "BrDale                     BrDale  104493.750000                      3\n",
       "BrkSide                   BrkSide  124834.051724                      4\n",
       "Edwards                   Edwards  128219.700000                      5"
      ]
     },
     "execution_count": 18,
     "metadata": {},
     "output_type": "execute_result"
    }
   ],
   "source": [
    "cat_df = pd.DataFrame()\n",
    "cat_df['NameNeighborhood'] = train_df['Neighborhood'].unique()\n",
    "cat_df.index = cat_df.NameNeighborhood\n",
    "cat_df['SalePriceMean'] = train_df[['Neighborhood', 'SalePrice']].groupby('Neighborhood').mean()['SalePrice']\n",
    "cat_df = cat_df.sort_values('SalePriceMean', ascending=True)\n",
    "\n",
    "cat_df['NameNeighborhoodOrder'] = range(1, cat_df.shape[0]+1)\n",
    "\n",
    "cat_df.head()"
   ]
  },
  {
   "cell_type": "markdown",
   "metadata": {},
   "source": [
    "The relationship between Neighborhood and Sales price can be seen below:"
   ]
  },
  {
   "cell_type": "code",
   "execution_count": 19,
   "metadata": {},
   "outputs": [
    {
     "data": {
      "image/png": "[encoded data removed]",
      "text/plain": [
       "<Figure size 432x288 with 1 Axes>"
      ]
     },
     "metadata": {},
     "output_type": "display_data"
    }
   ],
   "source": [
    "sns.regplot(x='NameNeighborhoodOrder', y='SalePriceMean', data=cat_df);"
   ]
  },
  {
   "cell_type": "markdown",
   "metadata": {},
   "source": [
    "#### Findings: It can be clearly seen that Neighborhood plays a vital role in determining SalePrice. \n",
    "##### Higher the order of Neighborhood higher the SalePrice"
   ]
  },
  {
   "cell_type": "markdown",
   "metadata": {},
   "source": [
    "Now,   to find the relationship between categorical features with Sale Price, we will apply ordeing encoding to all the categorical features."
   ]
  },
  {
   "cell_type": "code",
   "execution_count": 20,
   "metadata": {},
   "outputs": [],
   "source": [
    "def encode_order(df, cat_feature):\n",
    "    cat_df = pd.DataFrame()\n",
    "    cat_df['Name'] = df[cat_feature].unique()\n",
    "    cat_df.index = cat_df.Name\n",
    "    cat_df['SalePricemean'] = df[[cat_feature, 'SalePrice']].groupby(cat_feature).mean()['SalePrice']\n",
    "    cat_df = cat_df.sort_values('SalePricemean')\n",
    "    cat_df['Order'] = range(1, cat_df.shape[0]+1)\n",
    "    cat_df = cat_df['Order'].to_dict()\n",
    "    \n",
    "    for cat, order in cat_df.items():\n",
    "        df.loc[df[cat_feature] == cat, cat_feature+'_EO'] = order\n",
    "    \n"
   ]
  },
  {
   "cell_type": "code",
   "execution_count": 21,
   "metadata": {},
   "outputs": [],
   "source": [
    "training_categorical_encoded=[]\n",
    "for ent in training_categorical_features:  \n",
    "    encode_order(train_df, ent)\n",
    "    training_categorical_encoded.append(ent+'_EO')\n",
    "#print(training_categorical_encoded)"
   ]
  },
  {
   "cell_type": "markdown",
   "metadata": {},
   "source": [
    "Now lets move towards Testing Set\n",
    "\n",
    "# Step 3b: Data Quality Assessment : Testing Set"
   ]
  },
  {
   "cell_type": "code",
   "execution_count": 22,
   "metadata": {},
   "outputs": [
    {
     "name": "stdout",
     "output_type": "stream",
     "text": [
      "(1459, 79)\n"
     ]
    }
   ],
   "source": [
    "test_df  = pd.read_csv(r'D:\\IBM\\Advanced_DS_Capstone\\kaggle_input\\house-prices-advanced-regression-techniques\\test.csv')\n",
    "test=test_df.copy()\n",
    "\n",
    "test_df=test_df.drop('Id', 1) # Drop the ID\n",
    "#train_df=train_df.drop('SalePrice', 1) # Drop the target which is Sales Price\n",
    "\n",
    "\n",
    "print(test_df.shape) # we are have 79 features and no target column"
   ]
  },
  {
   "cell_type": "code",
   "execution_count": 23,
   "metadata": {},
   "outputs": [
    {
     "data": {
      "text/html": [
       "<div>\n",
       "<style scoped>\n",
       "    .dataframe tbody tr th:only-of-type {\n",
       "        vertical-align: middle;\n",
       "    }\n",
       "\n",
       "    .dataframe tbody tr th {\n",
       "        vertical-align: top;\n",
       "    }\n",
       "\n",
       "    .dataframe thead th {\n",
       "        text-align: right;\n",
       "    }\n",
       "</style>\n",
       "<table border=\"1\" class=\"dataframe\">\n",
       "  <thead>\n",
       "    <tr style=\"text-align: right;\">\n",
       "      <th></th>\n",
       "      <th>MSSubClass</th>\n",
       "      <th>MSZoning</th>\n",
       "      <th>LotFrontage</th>\n",
       "      <th>LotArea</th>\n",
       "      <th>Street</th>\n",
       "      <th>Alley</th>\n",
       "      <th>LotShape</th>\n",
       "      <th>LandContour</th>\n",
       "      <th>Utilities</th>\n",
       "      <th>LotConfig</th>\n",
       "      <th>...</th>\n",
       "      <th>ScreenPorch</th>\n",
       "      <th>PoolArea</th>\n",
       "      <th>PoolQC</th>\n",
       "      <th>Fence</th>\n",
       "      <th>MiscFeature</th>\n",
       "      <th>MiscVal</th>\n",
       "      <th>MoSold</th>\n",
       "      <th>YrSold</th>\n",
       "      <th>SaleType</th>\n",
       "      <th>SaleCondition</th>\n",
       "    </tr>\n",
       "  </thead>\n",
       "  <tbody>\n",
       "    <tr>\n",
       "      <th>0</th>\n",
       "      <td>20</td>\n",
       "      <td>RH</td>\n",
       "      <td>80.0</td>\n",
       "      <td>11622</td>\n",
       "      <td>Pave</td>\n",
       "      <td>NaN</td>\n",
       "      <td>Reg</td>\n",
       "      <td>Lvl</td>\n",
       "      <td>AllPub</td>\n",
       "      <td>Inside</td>\n",
       "      <td>...</td>\n",
       "      <td>120</td>\n",
       "      <td>0</td>\n",
       "      <td>NaN</td>\n",
       "      <td>MnPrv</td>\n",
       "      <td>NaN</td>\n",
       "      <td>0</td>\n",
       "      <td>6</td>\n",
       "      <td>2010</td>\n",
       "      <td>WD</td>\n",
       "      <td>Normal</td>\n",
       "    </tr>\n",
       "    <tr>\n",
       "      <th>1</th>\n",
       "      <td>20</td>\n",
       "      <td>RL</td>\n",
       "      <td>81.0</td>\n",
       "      <td>14267</td>\n",
       "      <td>Pave</td>\n",
       "      <td>NaN</td>\n",
       "      <td>IR1</td>\n",
       "      <td>Lvl</td>\n",
       "      <td>AllPub</td>\n",
       "      <td>Corner</td>\n",
       "      <td>...</td>\n",
       "      <td>0</td>\n",
       "      <td>0</td>\n",
       "      <td>NaN</td>\n",
       "      <td>NaN</td>\n",
       "      <td>Gar2</td>\n",
       "      <td>12500</td>\n",
       "      <td>6</td>\n",
       "      <td>2010</td>\n",
       "      <td>WD</td>\n",
       "      <td>Normal</td>\n",
       "    </tr>\n",
       "    <tr>\n",
       "      <th>2</th>\n",
       "      <td>60</td>\n",
       "      <td>RL</td>\n",
       "      <td>74.0</td>\n",
       "      <td>13830</td>\n",
       "      <td>Pave</td>\n",
       "      <td>NaN</td>\n",
       "      <td>IR1</td>\n",
       "      <td>Lvl</td>\n",
       "      <td>AllPub</td>\n",
       "      <td>Inside</td>\n",
       "      <td>...</td>\n",
       "      <td>0</td>\n",
       "      <td>0</td>\n",
       "      <td>NaN</td>\n",
       "      <td>MnPrv</td>\n",
       "      <td>NaN</td>\n",
       "      <td>0</td>\n",
       "      <td>3</td>\n",
       "      <td>2010</td>\n",
       "      <td>WD</td>\n",
       "      <td>Normal</td>\n",
       "    </tr>\n",
       "    <tr>\n",
       "      <th>3</th>\n",
       "      <td>60</td>\n",
       "      <td>RL</td>\n",
       "      <td>78.0</td>\n",
       "      <td>9978</td>\n",
       "      <td>Pave</td>\n",
       "      <td>NaN</td>\n",
       "      <td>IR1</td>\n",
       "      <td>Lvl</td>\n",
       "      <td>AllPub</td>\n",
       "      <td>Inside</td>\n",
       "      <td>...</td>\n",
       "      <td>0</td>\n",
       "      <td>0</td>\n",
       "      <td>NaN</td>\n",
       "      <td>NaN</td>\n",
       "      <td>NaN</td>\n",
       "      <td>0</td>\n",
       "      <td>6</td>\n",
       "      <td>2010</td>\n",
       "      <td>WD</td>\n",
       "      <td>Normal</td>\n",
       "    </tr>\n",
       "    <tr>\n",
       "      <th>4</th>\n",
       "      <td>120</td>\n",
       "      <td>RL</td>\n",
       "      <td>43.0</td>\n",
       "      <td>5005</td>\n",
       "      <td>Pave</td>\n",
       "      <td>NaN</td>\n",
       "      <td>IR1</td>\n",
       "      <td>HLS</td>\n",
       "      <td>AllPub</td>\n",
       "      <td>Inside</td>\n",
       "      <td>...</td>\n",
       "      <td>144</td>\n",
       "      <td>0</td>\n",
       "      <td>NaN</td>\n",
       "      <td>NaN</td>\n",
       "      <td>NaN</td>\n",
       "      <td>0</td>\n",
       "      <td>1</td>\n",
       "      <td>2010</td>\n",
       "      <td>WD</td>\n",
       "      <td>Normal</td>\n",
       "    </tr>\n",
       "  </tbody>\n",
       "</table>\n",
       "<p>5 rows × 79 columns</p>\n",
       "</div>"
      ],
      "text/plain": [
       "   MSSubClass MSZoning  LotFrontage  LotArea Street Alley LotShape  \\\n",
       "0          20       RH         80.0    11622   Pave   NaN      Reg   \n",
       "1          20       RL         81.0    14267   Pave   NaN      IR1   \n",
       "2          60       RL         74.0    13830   Pave   NaN      IR1   \n",
       "3          60       RL         78.0     9978   Pave   NaN      IR1   \n",
       "4         120       RL         43.0     5005   Pave   NaN      IR1   \n",
       "\n",
       "  LandContour Utilities LotConfig  ... ScreenPorch PoolArea PoolQC  Fence  \\\n",
       "0         Lvl    AllPub    Inside  ...         120        0    NaN  MnPrv   \n",
       "1         Lvl    AllPub    Corner  ...           0        0    NaN    NaN   \n",
       "2         Lvl    AllPub    Inside  ...           0        0    NaN  MnPrv   \n",
       "3         Lvl    AllPub    Inside  ...           0        0    NaN    NaN   \n",
       "4         HLS    AllPub    Inside  ...         144        0    NaN    NaN   \n",
       "\n",
       "  MiscFeature MiscVal  MoSold  YrSold  SaleType  SaleCondition  \n",
       "0         NaN       0       6    2010        WD         Normal  \n",
       "1        Gar2   12500       6    2010        WD         Normal  \n",
       "2         NaN       0       3    2010        WD         Normal  \n",
       "3         NaN       0       6    2010        WD         Normal  \n",
       "4         NaN       0       1    2010        WD         Normal  \n",
       "\n",
       "[5 rows x 79 columns]"
      ]
     },
     "execution_count": 23,
     "metadata": {},
     "output_type": "execute_result"
    }
   ],
   "source": [
    "test_df.head()\n"
   ]
  },
  {
   "cell_type": "code",
   "execution_count": 24,
   "metadata": {},
   "outputs": [
    {
     "data": {
      "text/html": [
       "<div>\n",
       "<style scoped>\n",
       "    .dataframe tbody tr th:only-of-type {\n",
       "        vertical-align: middle;\n",
       "    }\n",
       "\n",
       "    .dataframe tbody tr th {\n",
       "        vertical-align: top;\n",
       "    }\n",
       "\n",
       "    .dataframe thead th {\n",
       "        text-align: right;\n",
       "    }\n",
       "</style>\n",
       "<table border=\"1\" class=\"dataframe\">\n",
       "  <thead>\n",
       "    <tr style=\"text-align: right;\">\n",
       "      <th></th>\n",
       "      <th>MSSubClass</th>\n",
       "      <th>MSZoning</th>\n",
       "      <th>LotFrontage</th>\n",
       "      <th>LotArea</th>\n",
       "      <th>Street</th>\n",
       "      <th>Alley</th>\n",
       "      <th>LotShape</th>\n",
       "      <th>LandContour</th>\n",
       "      <th>Utilities</th>\n",
       "      <th>LotConfig</th>\n",
       "      <th>...</th>\n",
       "      <th>ScreenPorch</th>\n",
       "      <th>PoolArea</th>\n",
       "      <th>PoolQC</th>\n",
       "      <th>Fence</th>\n",
       "      <th>MiscFeature</th>\n",
       "      <th>MiscVal</th>\n",
       "      <th>MoSold</th>\n",
       "      <th>YrSold</th>\n",
       "      <th>SaleType</th>\n",
       "      <th>SaleCondition</th>\n",
       "    </tr>\n",
       "  </thead>\n",
       "  <tbody>\n",
       "    <tr>\n",
       "      <th>count</th>\n",
       "      <td>1459.000000</td>\n",
       "      <td>1455</td>\n",
       "      <td>1232.000000</td>\n",
       "      <td>1459.000000</td>\n",
       "      <td>1459</td>\n",
       "      <td>107</td>\n",
       "      <td>1459</td>\n",
       "      <td>1459</td>\n",
       "      <td>1457</td>\n",
       "      <td>1459</td>\n",
       "      <td>...</td>\n",
       "      <td>1459.000000</td>\n",
       "      <td>1459.000000</td>\n",
       "      <td>3</td>\n",
       "      <td>290</td>\n",
       "      <td>51</td>\n",
       "      <td>1459.000000</td>\n",
       "      <td>1459.000000</td>\n",
       "      <td>1459.000000</td>\n",
       "      <td>1458</td>\n",
       "      <td>1459</td>\n",
       "    </tr>\n",
       "    <tr>\n",
       "      <th>unique</th>\n",
       "      <td>NaN</td>\n",
       "      <td>5</td>\n",
       "      <td>NaN</td>\n",
       "      <td>NaN</td>\n",
       "      <td>2</td>\n",
       "      <td>2</td>\n",
       "      <td>4</td>\n",
       "      <td>4</td>\n",
       "      <td>1</td>\n",
       "      <td>5</td>\n",
       "      <td>...</td>\n",
       "      <td>NaN</td>\n",
       "      <td>NaN</td>\n",
       "      <td>2</td>\n",
       "      <td>4</td>\n",
       "      <td>3</td>\n",
       "      <td>NaN</td>\n",
       "      <td>NaN</td>\n",
       "      <td>NaN</td>\n",
       "      <td>9</td>\n",
       "      <td>6</td>\n",
       "    </tr>\n",
       "    <tr>\n",
       "      <th>top</th>\n",
       "      <td>NaN</td>\n",
       "      <td>RL</td>\n",
       "      <td>NaN</td>\n",
       "      <td>NaN</td>\n",
       "      <td>Pave</td>\n",
       "      <td>Grvl</td>\n",
       "      <td>Reg</td>\n",
       "      <td>Lvl</td>\n",
       "      <td>AllPub</td>\n",
       "      <td>Inside</td>\n",
       "      <td>...</td>\n",
       "      <td>NaN</td>\n",
       "      <td>NaN</td>\n",
       "      <td>Ex</td>\n",
       "      <td>MnPrv</td>\n",
       "      <td>Shed</td>\n",
       "      <td>NaN</td>\n",
       "      <td>NaN</td>\n",
       "      <td>NaN</td>\n",
       "      <td>WD</td>\n",
       "      <td>Normal</td>\n",
       "    </tr>\n",
       "    <tr>\n",
       "      <th>freq</th>\n",
       "      <td>NaN</td>\n",
       "      <td>1114</td>\n",
       "      <td>NaN</td>\n",
       "      <td>NaN</td>\n",
       "      <td>1453</td>\n",
       "      <td>70</td>\n",
       "      <td>934</td>\n",
       "      <td>1311</td>\n",
       "      <td>1457</td>\n",
       "      <td>1081</td>\n",
       "      <td>...</td>\n",
       "      <td>NaN</td>\n",
       "      <td>NaN</td>\n",
       "      <td>2</td>\n",
       "      <td>172</td>\n",
       "      <td>46</td>\n",
       "      <td>NaN</td>\n",
       "      <td>NaN</td>\n",
       "      <td>NaN</td>\n",
       "      <td>1258</td>\n",
       "      <td>1204</td>\n",
       "    </tr>\n",
       "    <tr>\n",
       "      <th>mean</th>\n",
       "      <td>57.378341</td>\n",
       "      <td>NaN</td>\n",
       "      <td>68.580357</td>\n",
       "      <td>9819.161069</td>\n",
       "      <td>NaN</td>\n",
       "      <td>NaN</td>\n",
       "      <td>NaN</td>\n",
       "      <td>NaN</td>\n",
       "      <td>NaN</td>\n",
       "      <td>NaN</td>\n",
       "      <td>...</td>\n",
       "      <td>17.064428</td>\n",
       "      <td>1.744345</td>\n",
       "      <td>NaN</td>\n",
       "      <td>NaN</td>\n",
       "      <td>NaN</td>\n",
       "      <td>58.167923</td>\n",
       "      <td>6.104181</td>\n",
       "      <td>2007.769705</td>\n",
       "      <td>NaN</td>\n",
       "      <td>NaN</td>\n",
       "    </tr>\n",
       "    <tr>\n",
       "      <th>std</th>\n",
       "      <td>42.746880</td>\n",
       "      <td>NaN</td>\n",
       "      <td>22.376841</td>\n",
       "      <td>4955.517327</td>\n",
       "      <td>NaN</td>\n",
       "      <td>NaN</td>\n",
       "      <td>NaN</td>\n",
       "      <td>NaN</td>\n",
       "      <td>NaN</td>\n",
       "      <td>NaN</td>\n",
       "      <td>...</td>\n",
       "      <td>56.609763</td>\n",
       "      <td>30.491646</td>\n",
       "      <td>NaN</td>\n",
       "      <td>NaN</td>\n",
       "      <td>NaN</td>\n",
       "      <td>630.806978</td>\n",
       "      <td>2.722432</td>\n",
       "      <td>1.301740</td>\n",
       "      <td>NaN</td>\n",
       "      <td>NaN</td>\n",
       "    </tr>\n",
       "    <tr>\n",
       "      <th>min</th>\n",
       "      <td>20.000000</td>\n",
       "      <td>NaN</td>\n",
       "      <td>21.000000</td>\n",
       "      <td>1470.000000</td>\n",
       "      <td>NaN</td>\n",
       "      <td>NaN</td>\n",
       "      <td>NaN</td>\n",
       "      <td>NaN</td>\n",
       "      <td>NaN</td>\n",
       "      <td>NaN</td>\n",
       "      <td>...</td>\n",
       "      <td>0.000000</td>\n",
       "      <td>0.000000</td>\n",
       "      <td>NaN</td>\n",
       "      <td>NaN</td>\n",
       "      <td>NaN</td>\n",
       "      <td>0.000000</td>\n",
       "      <td>1.000000</td>\n",
       "      <td>2006.000000</td>\n",
       "      <td>NaN</td>\n",
       "      <td>NaN</td>\n",
       "    </tr>\n",
       "    <tr>\n",
       "      <th>25%</th>\n",
       "      <td>20.000000</td>\n",
       "      <td>NaN</td>\n",
       "      <td>58.000000</td>\n",
       "      <td>7391.000000</td>\n",
       "      <td>NaN</td>\n",
       "      <td>NaN</td>\n",
       "      <td>NaN</td>\n",
       "      <td>NaN</td>\n",
       "      <td>NaN</td>\n",
       "      <td>NaN</td>\n",
       "      <td>...</td>\n",
       "      <td>0.000000</td>\n",
       "      <td>0.000000</td>\n",
       "      <td>NaN</td>\n",
       "      <td>NaN</td>\n",
       "      <td>NaN</td>\n",
       "      <td>0.000000</td>\n",
       "      <td>4.000000</td>\n",
       "      <td>2007.000000</td>\n",
       "      <td>NaN</td>\n",
       "      <td>NaN</td>\n",
       "    </tr>\n",
       "    <tr>\n",
       "      <th>50%</th>\n",
       "      <td>50.000000</td>\n",
       "      <td>NaN</td>\n",
       "      <td>67.000000</td>\n",
       "      <td>9399.000000</td>\n",
       "      <td>NaN</td>\n",
       "      <td>NaN</td>\n",
       "      <td>NaN</td>\n",
       "      <td>NaN</td>\n",
       "      <td>NaN</td>\n",
       "      <td>NaN</td>\n",
       "      <td>...</td>\n",
       "      <td>0.000000</td>\n",
       "      <td>0.000000</td>\n",
       "      <td>NaN</td>\n",
       "      <td>NaN</td>\n",
       "      <td>NaN</td>\n",
       "      <td>0.000000</td>\n",
       "      <td>6.000000</td>\n",
       "      <td>2008.000000</td>\n",
       "      <td>NaN</td>\n",
       "      <td>NaN</td>\n",
       "    </tr>\n",
       "    <tr>\n",
       "      <th>75%</th>\n",
       "      <td>70.000000</td>\n",
       "      <td>NaN</td>\n",
       "      <td>80.000000</td>\n",
       "      <td>11517.500000</td>\n",
       "      <td>NaN</td>\n",
       "      <td>NaN</td>\n",
       "      <td>NaN</td>\n",
       "      <td>NaN</td>\n",
       "      <td>NaN</td>\n",
       "      <td>NaN</td>\n",
       "      <td>...</td>\n",
       "      <td>0.000000</td>\n",
       "      <td>0.000000</td>\n",
       "      <td>NaN</td>\n",
       "      <td>NaN</td>\n",
       "      <td>NaN</td>\n",
       "      <td>0.000000</td>\n",
       "      <td>8.000000</td>\n",
       "      <td>2009.000000</td>\n",
       "      <td>NaN</td>\n",
       "      <td>NaN</td>\n",
       "    </tr>\n",
       "    <tr>\n",
       "      <th>max</th>\n",
       "      <td>190.000000</td>\n",
       "      <td>NaN</td>\n",
       "      <td>200.000000</td>\n",
       "      <td>56600.000000</td>\n",
       "      <td>NaN</td>\n",
       "      <td>NaN</td>\n",
       "      <td>NaN</td>\n",
       "      <td>NaN</td>\n",
       "      <td>NaN</td>\n",
       "      <td>NaN</td>\n",
       "      <td>...</td>\n",
       "      <td>576.000000</td>\n",
       "      <td>800.000000</td>\n",
       "      <td>NaN</td>\n",
       "      <td>NaN</td>\n",
       "      <td>NaN</td>\n",
       "      <td>17000.000000</td>\n",
       "      <td>12.000000</td>\n",
       "      <td>2010.000000</td>\n",
       "      <td>NaN</td>\n",
       "      <td>NaN</td>\n",
       "    </tr>\n",
       "  </tbody>\n",
       "</table>\n",
       "<p>11 rows × 79 columns</p>\n",
       "</div>"
      ],
      "text/plain": [
       "         MSSubClass MSZoning  LotFrontage       LotArea Street Alley LotShape  \\\n",
       "count   1459.000000     1455  1232.000000   1459.000000   1459   107     1459   \n",
       "unique          NaN        5          NaN           NaN      2     2        4   \n",
       "top             NaN       RL          NaN           NaN   Pave  Grvl      Reg   \n",
       "freq            NaN     1114          NaN           NaN   1453    70      934   \n",
       "mean      57.378341      NaN    68.580357   9819.161069    NaN   NaN      NaN   \n",
       "std       42.746880      NaN    22.376841   4955.517327    NaN   NaN      NaN   \n",
       "min       20.000000      NaN    21.000000   1470.000000    NaN   NaN      NaN   \n",
       "25%       20.000000      NaN    58.000000   7391.000000    NaN   NaN      NaN   \n",
       "50%       50.000000      NaN    67.000000   9399.000000    NaN   NaN      NaN   \n",
       "75%       70.000000      NaN    80.000000  11517.500000    NaN   NaN      NaN   \n",
       "max      190.000000      NaN   200.000000  56600.000000    NaN   NaN      NaN   \n",
       "\n",
       "       LandContour Utilities LotConfig  ...  ScreenPorch     PoolArea PoolQC  \\\n",
       "count         1459      1457      1459  ...  1459.000000  1459.000000      3   \n",
       "unique           4         1         5  ...          NaN          NaN      2   \n",
       "top            Lvl    AllPub    Inside  ...          NaN          NaN     Ex   \n",
       "freq          1311      1457      1081  ...          NaN          NaN      2   \n",
       "mean           NaN       NaN       NaN  ...    17.064428     1.744345    NaN   \n",
       "std            NaN       NaN       NaN  ...    56.609763    30.491646    NaN   \n",
       "min            NaN       NaN       NaN  ...     0.000000     0.000000    NaN   \n",
       "25%            NaN       NaN       NaN  ...     0.000000     0.000000    NaN   \n",
       "50%            NaN       NaN       NaN  ...     0.000000     0.000000    NaN   \n",
       "75%            NaN       NaN       NaN  ...     0.000000     0.000000    NaN   \n",
       "max            NaN       NaN       NaN  ...   576.000000   800.000000    NaN   \n",
       "\n",
       "        Fence MiscFeature       MiscVal       MoSold       YrSold  SaleType  \\\n",
       "count     290          51   1459.000000  1459.000000  1459.000000      1458   \n",
       "unique      4           3           NaN          NaN          NaN         9   \n",
       "top     MnPrv        Shed           NaN          NaN          NaN        WD   \n",
       "freq      172          46           NaN          NaN          NaN      1258   \n",
       "mean      NaN         NaN     58.167923     6.104181  2007.769705       NaN   \n",
       "std       NaN         NaN    630.806978     2.722432     1.301740       NaN   \n",
       "min       NaN         NaN      0.000000     1.000000  2006.000000       NaN   \n",
       "25%       NaN         NaN      0.000000     4.000000  2007.000000       NaN   \n",
       "50%       NaN         NaN      0.000000     6.000000  2008.000000       NaN   \n",
       "75%       NaN         NaN      0.000000     8.000000  2009.000000       NaN   \n",
       "max       NaN         NaN  17000.000000    12.000000  2010.000000       NaN   \n",
       "\n",
       "        SaleCondition  \n",
       "count            1459  \n",
       "unique              6  \n",
       "top            Normal  \n",
       "freq             1204  \n",
       "mean              NaN  \n",
       "std               NaN  \n",
       "min               NaN  \n",
       "25%               NaN  \n",
       "50%               NaN  \n",
       "75%               NaN  \n",
       "max               NaN  \n",
       "\n",
       "[11 rows x 79 columns]"
      ]
     },
     "execution_count": 24,
     "metadata": {},
     "output_type": "execute_result"
    }
   ],
   "source": [
    "test_df.describe(include='all') # Describing all columns of a DataFrame regardless of data type.\n"
   ]
  },
  {
   "cell_type": "code",
   "execution_count": 25,
   "metadata": {},
   "outputs": [
    {
     "name": "stdout",
     "output_type": "stream",
     "text": [
      "The number of numeric features in testing dataset are:  36\n",
      "The number of categorical features in testing dataset are:  43\n"
     ]
    }
   ],
   "source": [
    "test_numeric_featres, test_categorical_featres =feature_type(test_df)\n",
    "print('The number of numeric features in testing dataset are: ',len(test_numeric_featres))\n",
    "print('The number of categorical features in testing dataset are: ',len(test_categorical_featres))"
   ]
  },
  {
   "cell_type": "markdown",
   "metadata": {},
   "source": [
    "# Step 4. Data Exploration "
   ]
  },
  {
   "cell_type": "markdown",
   "metadata": {},
   "source": [
    "### 1. Correlation between columns\n",
    "\n",
    "To find the correlation between numeric and categorical features"
   ]
  },
  {
   "cell_type": "markdown",
   "metadata": {},
   "source": [
    "#### 1a. Numeric features"
   ]
  },
  {
   "cell_type": "code",
   "execution_count": 26,
   "metadata": {},
   "outputs": [
    {
     "data": {
      "text/plain": [
       "<matplotlib.axes._subplots.AxesSubplot at 0x2aed6cd07f0>"
      ]
     },
     "execution_count": 26,
     "metadata": {},
     "output_type": "execute_result"
    },
    {
     "data": {
      "image/png": "[encoded data removed]",
      "text/plain": [
       "<Figure size 432x288 with 2 Axes>"
      ]
     },
     "metadata": {},
     "output_type": "display_data"
    }
   ],
   "source": [
    "numeric_corr=train_numeric_df.corr()\n",
    "\n",
    "sns.heatmap(numeric_corr)"
   ]
  },
  {
   "cell_type": "markdown",
   "metadata": {},
   "source": [
    "#### Top 10 numeric values which are strongly correlated with SalePrice"
   ]
  },
  {
   "cell_type": "code",
   "execution_count": 27,
   "metadata": {},
   "outputs": [
    {
     "name": "stdout",
     "output_type": "stream",
     "text": [
      "SalePrice       1.000000\n",
      "OverallQual     0.790982\n",
      "GrLivArea       0.708624\n",
      "GarageCars      0.640409\n",
      "GarageArea      0.623431\n",
      "TotalBsmtSF     0.613581\n",
      "1stFlrSF        0.605852\n",
      "FullBath        0.560664\n",
      "TotRmsAbvGrd    0.533723\n",
      "YearBuilt       0.522897\n",
      "Name: SalePrice, dtype: float64 \n",
      "\n"
     ]
    }
   ],
   "source": [
    "print (numeric_corr.SalePrice.sort_values(ascending=False)[:10], '\\n') #top 10 values"
   ]
  },
  {
   "cell_type": "markdown",
   "metadata": {},
   "source": [
    "#### Findings: \n",
    "\n",
    "1. OverallQual:  Overall material and finish quality and \n",
    "\n",
    "2. GrLivArea: Above grade (ground) living area square feet \n",
    "\n",
    "are the most important features which is as expected. We will visualize their relationship in Data Visualization step."
   ]
  },
  {
   "cell_type": "markdown",
   "metadata": {},
   "source": [
    "#### 1b.  Categorical  features\n",
    "\n",
    "Here we can use our ordered categorical features. "
   ]
  },
  {
   "cell_type": "code",
   "execution_count": 28,
   "metadata": {},
   "outputs": [
    {
     "data": {
      "text/plain": [
       "<matplotlib.axes._subplots.AxesSubplot at 0x2aed6d95978>"
      ]
     },
     "execution_count": 28,
     "metadata": {},
     "output_type": "execute_result"
    },
    {
     "data": {
      "image/png": "[encoded data removed]",
      "text/plain": [
       "<Figure size 432x288 with 2 Axes>"
      ]
     },
     "metadata": {},
     "output_type": "display_data"
    }
   ],
   "source": [
    "categorical_corr = train_df[training_categorical_encoded+['SalePrice']].corr()\n",
    "sns.heatmap(categorical_corr)"
   ]
  },
  {
   "cell_type": "markdown",
   "metadata": {},
   "source": [
    "#### Top 10 categorical values which are strongly correlated with SalePrice"
   ]
  },
  {
   "cell_type": "code",
   "execution_count": 29,
   "metadata": {},
   "outputs": [
    {
     "name": "stdout",
     "output_type": "stream",
     "text": [
      "SalePrice          1.000000\n",
      "Neighborhood_EO    0.696882\n",
      "ExterQual_EO       0.682639\n",
      "KitchenQual_EO     0.659600\n",
      "BsmtQual_EO        0.644019\n",
      "PoolQC_EO          0.595229\n",
      "Alley_EO           0.534319\n",
      "GarageFinish_EO    0.513105\n",
      "Foundation_EO      0.505503\n",
      "GarageType_EO      0.445598\n",
      "Name: SalePrice, dtype: float64 \n",
      "\n"
     ]
    }
   ],
   "source": [
    "print (categorical_corr.SalePrice.sort_values(ascending=False)[:10], '\\n') #top 10 values"
   ]
  },
  {
   "cell_type": "markdown",
   "metadata": {},
   "source": [
    "#### Findings: \n",
    "\n",
    "1. Neighborhood_EO: Physical locations within Ames city limits  and  \n",
    "\n",
    "2. ExterQual_EO: Exterior material quality\n",
    "    \n",
    "are the important features.  We will visualize their relationship in Data Visualization step."
   ]
  },
  {
   "cell_type": "markdown",
   "metadata": {},
   "source": [
    "# Step 5. Data Visualization\n",
    "\n",
    "We will visualize two top most features from Numeric and Categorical Data"
   ]
  },
  {
   "cell_type": "markdown",
   "metadata": {},
   "source": [
    "### 1. Top most Numeric feature: Overall Quality"
   ]
  },
  {
   "cell_type": "code",
   "execution_count": 30,
   "metadata": {},
   "outputs": [
    {
     "name": "stdout",
     "output_type": "stream",
     "text": [
      "[ 7  6  8  5  9  4 10  3  1  2]\n"
     ]
    },
    {
     "data": {
      "text/plain": [
       "<matplotlib.axes._subplots.AxesSubplot at 0x2aed6e6c358>"
      ]
     },
     "execution_count": 30,
     "metadata": {},
     "output_type": "execute_result"
    },
    {
     "data": {
      "image/png": "[encoded data removed]",
      "text/plain": [
       "<Figure size 432x288 with 1 Axes>"
      ]
     },
     "metadata": {},
     "output_type": "display_data"
    }
   ],
   "source": [
    "print(train_df['OverallQual'].unique())\n",
    "\n",
    "\n",
    "pivot = train_df.pivot_table(index='OverallQual', values='SalePrice')\n",
    "pivot.plot(kind='bar', color='blue')"
   ]
  },
  {
   "cell_type": "markdown",
   "metadata": {},
   "source": [
    "__Findings__ As the Overall Quality increases sale price increases, which is as expected."
   ]
  },
  {
   "cell_type": "markdown",
   "metadata": {},
   "source": [
    "### 2. Top most Categorical feature: Neighborhood Quality"
   ]
  },
  {
   "cell_type": "code",
   "execution_count": 31,
   "metadata": {},
   "outputs": [
    {
     "data": {
      "text/plain": [
       "<matplotlib.axes._subplots.AxesSubplot at 0x2aed6a5f278>"
      ]
     },
     "execution_count": 31,
     "metadata": {},
     "output_type": "execute_result"
    },
    {
     "data": {
      "image/png": "[encoded data removed]",
      "text/plain": [
       "<Figure size 432x288 with 1 Axes>"
      ]
     },
     "metadata": {},
     "output_type": "display_data"
    }
   ],
   "source": [
    "pivot = train_df.pivot_table(index='Neighborhood_EO', values='SalePrice')\n",
    "pivot.plot(kind='bar', color='blue')"
   ]
  },
  {
   "cell_type": "markdown",
   "metadata": {},
   "source": [
    "__Finding__: Higher the rating/order of Neighborhood, higher is then Sale Price."
   ]
  },
  {
   "cell_type": "markdown",
   "metadata": {},
   "source": [
    "### 3. Second top most Numeric  feature: GrLivArea: Above grade (ground) living area square feet"
   ]
  },
  {
   "cell_type": "code",
   "execution_count": 32,
   "metadata": {},
   "outputs": [
    {
     "data": {
      "image/png": "[encoded data removed]",
      "text/plain": [
       "<Figure size 432x288 with 1 Axes>"
      ]
     },
     "metadata": {},
     "output_type": "display_data"
    }
   ],
   "source": [
    "ax = sns.regplot(x='GrLivArea', y='SalePrice', data=train_df)"
   ]
  },
  {
   "cell_type": "markdown",
   "metadata": {},
   "source": [
    "#### Findings:\n",
    "\n",
    "1. As the Living Area increases sale price increases, which is also expected.\n",
    "\n",
    "2. Futher there are outliers after 4000.  We will get rid of these in feature engineering."
   ]
  },
  {
   "cell_type": "markdown",
   "metadata": {},
   "source": [
    "### 4. Second top most categorical  feature: ExterQual  : Exterior material quality"
   ]
  },
  {
   "cell_type": "code",
   "execution_count": 33,
   "metadata": {},
   "outputs": [
    {
     "data": {
      "text/plain": [
       "<matplotlib.axes._subplots.AxesSubplot at 0x2aed53c7c50>"
      ]
     },
     "execution_count": 33,
     "metadata": {},
     "output_type": "execute_result"
    },
    {
     "data": {
      "image/png": "[encoded data removed]",
      "text/plain": [
       "<Figure size 432x288 with 1 Axes>"
      ]
     },
     "metadata": {},
     "output_type": "display_data"
    }
   ],
   "source": [
    "pivot = train_df.pivot_table(index='ExterQual_EO', values='SalePrice')\n",
    "pivot.plot(kind='bar', color='blue')"
   ]
  },
  {
   "cell_type": "markdown",
   "metadata": {},
   "source": [
    "__Finding__: Higher the rating/order of Exterior Quality, higher is then Sale Price."
   ]
  },
  {
   "cell_type": "markdown",
   "metadata": {},
   "source": [
    "# Step 6. Feature Engineering \n",
    "\n",
    "\n",
    "Here we are going to do the following steps:\n",
    "\n",
    "1. Removing the outliers\n",
    "\n",
    "2. Removing redundant features\n",
    "\n",
    "3. Adding new  features\n",
    "\n",
    "4. Correcting  data type of feature\n",
    "\n",
    "5. Imputing missing values\n",
    "\n",
    "6. Removing skewness from feature variables\n",
    "\n",
    "7. Creating dummy variables (ONE-HOT ENCODING)\n"
   ]
  },
  {
   "cell_type": "markdown",
   "metadata": {},
   "source": [
    "### 1. Removing the outliers\n",
    "\n",
    "Since GrLivArea is one the most important feature in determining Sale Price, we will remove the four entries which are outliers in GrLivArea as seen in Data Visulaization section.\n"
   ]
  },
  {
   "cell_type": "code",
   "execution_count": 34,
   "metadata": {},
   "outputs": [],
   "source": [
    "train_df = train_df[train_df.GrLivArea < 4000]\n",
    "train_df.reset_index(drop=True, inplace=True)\n"
   ]
  },
  {
   "cell_type": "markdown",
   "metadata": {},
   "source": [
    "__Note__ We are setting y (target) parameter as the log transformation os SalePrice which is normalized. This we have already chekeced in Skewness section in Step 3 while assessing the Quality of Data."
   ]
  },
  {
   "cell_type": "code",
   "execution_count": 35,
   "metadata": {},
   "outputs": [
    {
     "data": {
      "text/plain": [
       "1456"
      ]
     },
     "execution_count": 35,
     "metadata": {},
     "output_type": "execute_result"
    }
   ],
   "source": [
    "y = train_df['SalePrice_Normal']\n",
    "len(y)"
   ]
  },
  {
   "cell_type": "markdown",
   "metadata": {},
   "source": [
    "Now to obtain only features , we are going to drop SalePrice columns from training data."
   ]
  },
  {
   "cell_type": "code",
   "execution_count": 36,
   "metadata": {},
   "outputs": [],
   "source": [
    "train_df_features = train_df.drop(['SalePrice','SalePrice_Normal'], axis=1)"
   ]
  },
  {
   "cell_type": "markdown",
   "metadata": {},
   "source": [
    "Now we will concatenate training and test features , so all the rest of the feature engineering processes can be applied\n",
    "on both the datasets"
   ]
  },
  {
   "cell_type": "code",
   "execution_count": 37,
   "metadata": {},
   "outputs": [],
   "source": [
    "features_df = pd.concat([train_df_features, test_df]).reset_index(drop=True)"
   ]
  },
  {
   "cell_type": "markdown",
   "metadata": {},
   "source": [
    "### 2. Removing redundant features"
   ]
  },
  {
   "cell_type": "markdown",
   "metadata": {},
   "source": [
    "#### a. Basement finished square feet"
   ]
  },
  {
   "cell_type": "markdown",
   "metadata": {},
   "source": [
    " Total square feet of basement area ('TotalBsmtSF')  is sum of:\n",
    "    \n",
    "1. BsmtFinSF1: Type 1 finished square feet\n",
    "\n",
    "2. BsmtFinSF2: Type 2 finished square feet\n",
    "\n",
    "3. BsmtUnfSF: Unfinished square feet of basement area\n",
    "\n",
    "Therefore, we will keep the total column and drop the individual columns"
   ]
  },
  {
   "cell_type": "code",
   "execution_count": 38,
   "metadata": {},
   "outputs": [],
   "source": [
    "features_df.drop(['BsmtFinSF1', 'BsmtFinSF2', 'BsmtUnfSF'], axis = 1, inplace=True) "
   ]
  },
  {
   "cell_type": "markdown",
   "metadata": {},
   "source": [
    "#### b. Living Area"
   ]
  },
  {
   "cell_type": "markdown",
   "metadata": {},
   "source": [
    "Since GrLivArea: Above grade (ground) living area square feet is sum of :\n",
    "        \n",
    "1.   1stFlrSF: First Floor square feet\n",
    "    \n",
    "2.   2ndFlrSF: Second floor square feet   \n",
    "    \n",
    "We will drop these two redundant columns"
   ]
  },
  {
   "cell_type": "code",
   "execution_count": 39,
   "metadata": {},
   "outputs": [],
   "source": [
    "features_df.drop(['1stFlrSF', '2ndFlrSF'], axis = 1,inplace=True) "
   ]
  },
  {
   "cell_type": "markdown",
   "metadata": {},
   "source": [
    "#### c. Bathrooms\n",
    "\n",
    "\n",
    "We will combine all the bathrooms to compute total bathrooms.\n",
    "\n",
    "__Note__ For the Half Bathrooms we are going to assign 0.5 weight, whilecomputing total."
   ]
  },
  {
   "cell_type": "markdown",
   "metadata": {},
   "source": [
    "1. BsmtFullBath: Basement full bathrooms\n",
    "\n",
    "2. BsmtHalfBath: Basement half bathrooms\n",
    "\n",
    "3. FullBath: Full bathrooms above grade\n",
    "\n",
    "4. HalfBath: Half baths above grade"
   ]
  },
  {
   "cell_type": "code",
   "execution_count": 40,
   "metadata": {},
   "outputs": [],
   "source": [
    "features_df['TotalBathRooms']=features_df['BsmtFullBath']+ features_df['FullBath']+ 0.5*features_df['BsmtHalfBath']+ 0.5*features_df['HalfBath']\n",
    "\n",
    "features_df.drop(['BsmtFullBath', 'FullBath',  'BsmtHalfBath', 'HalfBath' ], axis = 1,inplace=True) \n"
   ]
  },
  {
   "cell_type": "markdown",
   "metadata": {},
   "source": [
    "#### d. Porch"
   ]
  },
  {
   "cell_type": "markdown",
   "metadata": {},
   "source": [
    "We will combine all the Porch areas to have a single column TotalPorchArea and will drop the individual entries.\n",
    "\n",
    "1. OpenPorchSF: Open porch area in square feet\n",
    "\n",
    "2. EnclosedPorch: Enclosed porch area in square feet\n",
    "\n",
    "3. 3SsnPorch: Three season porch area in square feet\n",
    "\n",
    "4. ScreenPorch: Screen porch area in square feet"
   ]
  },
  {
   "cell_type": "code",
   "execution_count": 41,
   "metadata": {},
   "outputs": [],
   "source": [
    "features_df['TotalPorchArea']=features_df['OpenPorchSF']+features_df['EnclosedPorch']+features_df['3SsnPorch']+features_df['ScreenPorch']\n",
    "\n",
    "features_df.drop(['OpenPorchSF','EnclosedPorch', '3SsnPorch',  'ScreenPorch' ], axis = 1,inplace=True) \n"
   ]
  },
  {
   "cell_type": "markdown",
   "metadata": {},
   "source": [
    "### 3. Adding new  features\n",
    "\n",
    "Depending upon if the house has a column for a particular facility, we are going to convert these values to a binary value."
   ]
  },
  {
   "cell_type": "code",
   "execution_count": 42,
   "metadata": {},
   "outputs": [],
   "source": [
    "features_df['houseWithPool'] = features_df['PoolArea'].apply(lambda x: 1 if x > 0 else 0)\n",
    "features_df['houseWithGarage'] = features_df['GarageArea'].apply(lambda x: 1 if x > 0 else 0)\n",
    "features_df['houseWithBasement'] = features_df['TotalBsmtSF'].apply(lambda x: 1 if x > 0 else 0)\n",
    "features_df['houseWithFireplace'] = features_df['Fireplaces'].apply(lambda x: 1 if x > 0 else 0)"
   ]
  },
  {
   "cell_type": "markdown",
   "metadata": {},
   "source": [
    "### 4. Correcting  data type of feature\n",
    "\n",
    "We will correct the datatypes of certain features as we are not going to perform any mathematical operations on them."
   ]
  },
  {
   "cell_type": "code",
   "execution_count": 43,
   "metadata": {},
   "outputs": [],
   "source": [
    "for col in ['MSSubClass', 'OverallCond', 'YrSold', 'MoSold','GarageYrBlt','YearBuilt','YearRemodAdd']:\n",
    "    features_df.loc[:, col] = features_df[col].astype(str)"
   ]
  },
  {
   "cell_type": "markdown",
   "metadata": {},
   "source": [
    "### 5.  Imputing missing values\n",
    "To deal with  the coloumns with missing values:\n",
    "\n",
    "\n",
    "1. For the categorical features, we will impute with the \"top\" value, i.e., mode.\n",
    "\n",
    "\n",
    "2. For numeric features:\n",
    "\n",
    "     a. we will impute with the \"mean\" values if the respective feature is negatively skewed.\n",
    "     \n",
    "     b. we will impute with the \"median\" values if the respective feature is postively skewed."
   ]
  },
  {
   "cell_type": "code",
   "execution_count": 44,
   "metadata": {},
   "outputs": [],
   "source": [
    "def imputing_missing_entries(df):\n",
    "    for ent in df.columns:\n",
    "        if (df[ent].isnull().any()==True):\n",
    "            if( df[ent].dtype == np.float64 or df[ent].dtype == np.int64):\n",
    "                #print(\"We are going to replace \", ent + \" by mean:\",   df[ent].mean())\n",
    "                df[ent].fillna(min(df[ent].mean(),df[ent].median()), inplace=True)\n",
    "            elif (df[ent].dtype == np.object):\n",
    "                #print(\"We are going to replace \", ent + \" by mode:\",   df[ent].mode())\n",
    "                df[ent].fillna(df[ent].mode(), inplace=True)\n",
    "                #df[ent].replace(to_replace=[None], value=df[ent].mode(), inplace=True) # for \n",
    "    return df"
   ]
  },
  {
   "cell_type": "code",
   "execution_count": 45,
   "metadata": {},
   "outputs": [],
   "source": [
    "features_df=imputing_missing_entries(features_df)"
   ]
  },
  {
   "cell_type": "code",
   "execution_count": null,
   "metadata": {},
   "outputs": [],
   "source": [
    "# To check if all entries are imputed, uncommet the code below\n",
    "#for ent in features_df.columns:\n",
    "    #if (features_df[ent].isnull().any()==False):\n",
    "        #print('All entries are imputed')\n"
   ]
  },
  {
   "cell_type": "markdown",
   "metadata": {},
   "source": [
    "### 6. Removing skewness from numeric feature variables\n",
    "\n",
    "To remove skewness from numeric features  we will apply Box-Cox transformation."
   ]
  },
  {
   "cell_type": "code",
   "execution_count": 46,
   "metadata": {},
   "outputs": [],
   "source": [
    "numeric_features, categorical_features =feature_type(features_df)\n"
   ]
  },
  {
   "cell_type": "code",
   "execution_count": 47,
   "metadata": {},
   "outputs": [
    {
     "data": {
      "text/html": [
       "<div>\n",
       "<style scoped>\n",
       "    .dataframe tbody tr th:only-of-type {\n",
       "        vertical-align: middle;\n",
       "    }\n",
       "\n",
       "    .dataframe tbody tr th {\n",
       "        vertical-align: top;\n",
       "    }\n",
       "\n",
       "    .dataframe thead th {\n",
       "        text-align: right;\n",
       "    }\n",
       "</style>\n",
       "<table border=\"1\" class=\"dataframe\">\n",
       "  <thead>\n",
       "    <tr style=\"text-align: right;\">\n",
       "      <th></th>\n",
       "      <th>Skewness_Features</th>\n",
       "    </tr>\n",
       "  </thead>\n",
       "  <tbody>\n",
       "    <tr>\n",
       "      <th>MiscVal</th>\n",
       "      <td>21.932147</td>\n",
       "    </tr>\n",
       "    <tr>\n",
       "      <th>MiscFeature_EO</th>\n",
       "      <td>19.054225</td>\n",
       "    </tr>\n",
       "    <tr>\n",
       "      <th>PoolArea</th>\n",
       "      <td>18.701829</td>\n",
       "    </tr>\n",
       "    <tr>\n",
       "      <th>houseWithPool</th>\n",
       "      <td>16.186531</td>\n",
       "    </tr>\n",
       "    <tr>\n",
       "      <th>RoofMatl_EO</th>\n",
       "      <td>13.452955</td>\n",
       "    </tr>\n",
       "  </tbody>\n",
       "</table>\n",
       "</div>"
      ],
      "text/plain": [
       "                Skewness_Features\n",
       "MiscVal                 21.932147\n",
       "MiscFeature_EO          19.054225\n",
       "PoolArea                18.701829\n",
       "houseWithPool           16.186531\n",
       "RoofMatl_EO             13.452955"
      ]
     },
     "execution_count": 47,
     "metadata": {},
     "output_type": "execute_result"
    }
   ],
   "source": [
    "skewness_features = features_df[numeric_features].apply(lambda x: skew(x.dropna())).sort_values(ascending=False)\n",
    "skewness_features_df = pd.DataFrame({'Skewness_Features': skewness_features})\n",
    "skewness_features_df.head()"
   ]
  },
  {
   "cell_type": "code",
   "execution_count": 48,
   "metadata": {},
   "outputs": [],
   "source": [
    "boxcox_features = skewness_features_df[np.abs(skewness_features_df['Skewness_Features'])>0.75].index\n",
    "lam = 0.15\n",
    "\n",
    "for col in boxcox_features:\n",
    "    features_df.loc[:, col] = boxcox1p(features_df[col], lam)"
   ]
  },
  {
   "cell_type": "markdown",
   "metadata": {},
   "source": [
    "### 7. Creating dummy variables (ONE-HOT ENCODING)\n",
    "\n",
    "The machine learning models do not take strings but only accept numbers, therefore, we will  create dummy variables for our categorical features. \n",
    "\n",
    "We use pandas' \"get_dummies\" method."
   ]
  },
  {
   "cell_type": "code",
   "execution_count": 49,
   "metadata": {},
   "outputs": [
    {
     "data": {
      "text/plain": [
       "(2915, 641)"
      ]
     },
     "execution_count": 49,
     "metadata": {},
     "output_type": "execute_result"
    }
   ],
   "source": [
    "final_features_df = pd.get_dummies(features_df).reset_index(drop=True)\n",
    "final_features_df.shape"
   ]
  },
  {
   "cell_type": "code",
   "execution_count": 50,
   "metadata": {},
   "outputs": [
    {
     "data": {
      "text/plain": [
       "((1456, 641), (1456,), (1459, 641))"
      ]
     },
     "execution_count": 50,
     "metadata": {},
     "output_type": "execute_result"
    }
   ],
   "source": [
    "X = final_features_df.iloc[:len(y), :]\n",
    "X_test_sub = final_features_df.iloc[len(y):, :]\n",
    "X.shape, y.shape, X_test_sub.shape"
   ]
  },
  {
   "cell_type": "markdown",
   "metadata": {},
   "source": [
    "# Step 7. Model Performance Indicator \n",
    "\n",
    "We will evaluate the performance of the model using two metrics  Root Mean Squared Error (RMSE) and R-squared value.\n",
    "\n",
    "\n",
    "1. Root Mean Squared Error (MSE) :It is the square root of the average of squared differences between prediction and true vaue. \n",
    "\n",
    "__Since it has the same units as the SalePrice. Therefore we choose to use RMSE__\n",
    "\n",
    "\n",
    "2. R-squared values range from 0 to 1 and are commonly stated as percentages.\n",
    "R2 ranges from 0 to 1:\n",
    "\n",
    "1. if R2=0 : the model always fails to predict the target variable,\n",
    "2. if R2=1 : the model perfectly predicts the target variable.\n",
    "\n",
    "__Any value between 0 and 1 indicates what percentage of the target variable, using the model, can be explained by the features__. \n",
    "\n",
    "\n"
   ]
  },
  {
   "cell_type": "markdown",
   "metadata": {},
   "source": [
    "## Definig RMSE and R^2 for Keras which we will use as evaluation metric"
   ]
  },
  {
   "cell_type": "code",
   "execution_count": 51,
   "metadata": {},
   "outputs": [],
   "source": [
    "def keras_rmse(y_true, y_pred):\n",
    "    return K.sqrt(K.mean(K.square(y_pred - y_true), axis=-1))"
   ]
  },
  {
   "cell_type": "code",
   "execution_count": 52,
   "metadata": {},
   "outputs": [],
   "source": [
    "def r_square(y_true, y_pred):\n",
    "    SS_res =  K.sum(K.square( y_true-y_pred ))\n",
    "    SS_tot = K.sum(K.square( y_true - K.mean(y_true) ) )\n",
    "    return ( 1 - SS_res/(SS_tot + K.epsilon()) )"
   ]
  },
  {
   "cell_type": "markdown",
   "metadata": {},
   "source": [
    "# Step 8a Machine Learning Algorithm"
   ]
  },
  {
   "cell_type": "markdown",
   "metadata": {},
   "source": [
    "## 1. SVR :\n",
    "\n",
    "Support Vector regression is a type of Support vector machine that supports linear and non-linear regression"
   ]
  },
  {
   "cell_type": "code",
   "execution_count": 53,
   "metadata": {},
   "outputs": [
    {
     "name": "stdout",
     "output_type": "stream",
     "text": [
      "SVR: has RMSE: 0.2430  and R2_score: 0.6235\n",
      "\n"
     ]
    }
   ],
   "source": [
    "# Model initialization\n",
    "regression_model = SVR()\n",
    "# Fit the data(train the model)\n",
    "regression_model.fit(X, y)\n",
    "# PredictX\n",
    "y_pred = regression_model.predict(X)\n",
    "\n",
    "# model evaluation\n",
    "rmse = np.sqrt(mean_squared_error(y, y_pred))\n",
    "r2=r2_score(y, y_pred)\n",
    "\n",
    "\n",
    "\n",
    "print(\"SVR: has RMSE: {:.4f}  and R2_score: {:.4f}\\n\".format(rmse, r2) )\n",
    "         "
   ]
  },
  {
   "cell_type": "markdown",
   "metadata": {},
   "source": [
    "## 2. LASSO (least absolute shrinkage and selection operator)"
   ]
  },
  {
   "cell_type": "code",
   "execution_count": 54,
   "metadata": {},
   "outputs": [
    {
     "name": "stdout",
     "output_type": "stream",
     "text": [
      "LASSO: has RMSE: 0.1036  and R2_score: 0.9316\n",
      "\n"
     ]
    }
   ],
   "source": [
    "\n",
    "\n",
    "\n",
    "# Model initialization\n",
    "regression_model = Lasso(alpha=0.00099, max_iter=1000)\n",
    "# Fit the data(train the model)\n",
    "regression_model.fit(X, y)\n",
    "# PredictX\n",
    "y_pred = regression_model.predict(X)\n",
    "\n",
    "# model evaluation\n",
    "rmse = np.sqrt(mean_squared_error(y, y_pred))\n",
    "r2=r2_score(y, y_pred)\n",
    "\n",
    "\n",
    "print(\"LASSO: has RMSE: {:.4f}  and R2_score: {:.4f}\\n\".format(rmse, r2) )\n",
    "\n"
   ]
  },
  {
   "cell_type": "markdown",
   "metadata": {},
   "source": [
    "## 3. Linear Regression"
   ]
  },
  {
   "cell_type": "code",
   "execution_count": 59,
   "metadata": {},
   "outputs": [
    {
     "name": "stdout",
     "output_type": "stream",
     "text": [
      "Linear Regression: has RMSE: 0.0766  and R2_score: 0.9626\n",
      "\n"
     ]
    }
   ],
   "source": [
    "# Model initialization\n",
    "regression_model = LinearRegression()\n",
    "# Fit the data(train the model)\n",
    "regression_model.fit(X, y)\n",
    "# PredictX\n",
    "y_pred = regression_model.predict(X)\n",
    "\n",
    "# model evaluation\n",
    "rmse = np.sqrt(mean_squared_error(y, y_pred))\n",
    "r2=r2_score(y, y_pred)\n",
    "\n",
    "\n",
    "\n",
    "print(\"Linear Regression: has RMSE: {:.4f}  and R2_score: {:.4f}\\n\".format(rmse, r2) )\n",
    "\n",
    "lr_pred = regression_model.predict(X_test_sub) \n",
    "lr_pred = np.expm1(lr_pred)\n",
    "lr_pred_df = pd.DataFrame(lr_pred, index=test[\"Id\"], columns=[\"SalePrice\"]) \n",
    "lr_pred_df.to_csv('lr_seq.csv', header=True, index_label='Id') "
   ]
  },
  {
   "cell_type": "markdown",
   "metadata": {},
   "source": [
    "# Step 8b DeepLearning Algorithm"
   ]
  },
  {
   "cell_type": "markdown",
   "metadata": {},
   "source": [
    "### 1. Build the model"
   ]
  },
  {
   "cell_type": "code",
   "execution_count": 60,
   "metadata": {},
   "outputs": [],
   "source": [
    "def build_model():\n",
    "    model = keras.Sequential([\n",
    "       layers.Dense(64, activation='relu', input_shape=[final_features_df.shape[1]]),\n",
    "       layers.Dense(64, activation='relu'),\n",
    "       layers.Dense(1)\n",
    "     ])\n",
    "\n",
    "    #optimizer = tf.keras.optimizers.RMSprop(0.001)\n",
    "\n",
    "    model.compile(loss='mse',\n",
    "                optimizer=tf.keras.optimizers.RMSprop(0.001),\n",
    "                metrics=[keras_rmse,r_square])\n",
    "    return model"
   ]
  },
  {
   "cell_type": "code",
   "execution_count": 61,
   "metadata": {},
   "outputs": [],
   "source": [
    "model = build_model()"
   ]
  },
  {
   "cell_type": "markdown",
   "metadata": {},
   "source": [
    "### 2. Inspect the model\n",
    "Use the .summary method to print a simple description of the model"
   ]
  },
  {
   "cell_type": "code",
   "execution_count": 62,
   "metadata": {},
   "outputs": [
    {
     "name": "stdout",
     "output_type": "stream",
     "text": [
      "Model: \"sequential\"\n",
      "_________________________________________________________________\n",
      "Layer (type)                 Output Shape              Param #   \n",
      "=================================================================\n",
      "dense (Dense)                (None, 64)                41088     \n",
      "_________________________________________________________________\n",
      "dense_1 (Dense)              (None, 64)                4160      \n",
      "_________________________________________________________________\n",
      "dense_2 (Dense)              (None, 1)                 65        \n",
      "=================================================================\n",
      "Total params: 45,313\n",
      "Trainable params: 45,313\n",
      "Non-trainable params: 0\n",
      "_________________________________________________________________\n"
     ]
    }
   ],
   "source": [
    "model.summary()"
   ]
  },
  {
   "cell_type": "code",
   "execution_count": null,
   "metadata": {},
   "outputs": [],
   "source": [
    "#example_batch = X[:10]\n",
    "#example_result = model.predict(example_batch)\n",
    "#np.expm1(example_result)"
   ]
  },
  {
   "cell_type": "code",
   "execution_count": 63,
   "metadata": {},
   "outputs": [
    {
     "name": "stdout",
     "output_type": "stream",
     "text": [
      "\n",
      "Epoch: 0, keras_rmse:3.8878,  loss:48.2954,  r_square:-377.1167,  val_keras_rmse:10.5677,  val_loss:144.4709,  val_r_square:-1142.7252,  \n",
      "....................................................................................................\n",
      "Epoch: 100, keras_rmse:0.4299,  loss:0.2881,  r_square:-1.0385,  val_keras_rmse:0.4419,  val_loss:0.2548,  val_r_square:-0.8980,  \n",
      "....................................................................................................\n",
      "Epoch: 200, keras_rmse:0.2843,  loss:0.1210,  r_square:0.2078,  val_keras_rmse:0.1256,  val_loss:0.0282,  val_r_square:0.8006,  \n",
      "....................................................................................................\n",
      "Epoch: 300, keras_rmse:0.2516,  loss:0.0860,  r_square:0.3747,  val_keras_rmse:0.3041,  val_loss:0.1228,  val_r_square:0.1210,  \n",
      "....................................................................................................\n",
      "Epoch: 400, keras_rmse:0.2034,  loss:0.0696,  r_square:0.5682,  val_keras_rmse:0.3728,  val_loss:0.1653,  val_r_square:-0.2093,  \n",
      "....................................................................................................\n",
      "Epoch: 500, keras_rmse:0.2281,  loss:0.0654,  r_square:0.5280,  val_keras_rmse:0.2510,  val_loss:0.0790,  val_r_square:0.3326,  \n",
      "....................................................................................................\n",
      "Epoch: 600, keras_rmse:0.2031,  loss:0.0551,  r_square:0.6294,  val_keras_rmse:0.1158,  val_loss:0.0240,  val_r_square:0.8249,  \n",
      "....................................................................................................\n",
      "Epoch: 700, keras_rmse:0.1826,  loss:0.0503,  r_square:0.6722,  val_keras_rmse:0.3101,  val_loss:0.1146,  val_r_square:0.0600,  \n",
      "....................................................................................................\n",
      "Epoch: 800, keras_rmse:0.1859,  loss:0.0473,  r_square:0.6599,  val_keras_rmse:0.1626,  val_loss:0.0382,  val_r_square:0.7058,  \n",
      "....................................................................................................\n",
      "Epoch: 900, keras_rmse:0.1638,  loss:0.0429,  r_square:0.6978,  val_keras_rmse:0.1892,  val_loss:0.0518,  val_r_square:0.6400,  \n",
      "...................................................................................................."
     ]
    }
   ],
   "source": [
    "np.random.seed(55) # for reproducibility\n",
    "EPOCHS = 1000\n",
    "\n",
    "history = model.fit(\n",
    "  X, y,\n",
    "  epochs=EPOCHS, validation_split = 0.2, verbose=0,callbacks=[tfdocs.modeling.EpochDots()])"
   ]
  },
  {
   "cell_type": "code",
   "execution_count": 65,
   "metadata": {},
   "outputs": [],
   "source": [
    "keras_pred = model.predict(X_test_sub) \n",
    "keras_pred = np.expm1(keras_pred)\n",
    "pred_df = pd.DataFrame(keras_pred, index=test[\"Id\"], columns=[\"SalePrice\"]) \n",
    "pred_df.to_csv('keras_seq.csv', header=True, index_label='Id') "
   ]
  },
  {
   "cell_type": "markdown",
   "metadata": {},
   "source": [
    "### Visualize the model's training progress using the stats stored in the history object."
   ]
  },
  {
   "cell_type": "code",
   "execution_count": 66,
   "metadata": {},
   "outputs": [
    {
     "data": {
      "text/html": [
       "<div>\n",
       "<style scoped>\n",
       "    .dataframe tbody tr th:only-of-type {\n",
       "        vertical-align: middle;\n",
       "    }\n",
       "\n",
       "    .dataframe tbody tr th {\n",
       "        vertical-align: top;\n",
       "    }\n",
       "\n",
       "    .dataframe thead th {\n",
       "        text-align: right;\n",
       "    }\n",
       "</style>\n",
       "<table border=\"1\" class=\"dataframe\">\n",
       "  <thead>\n",
       "    <tr style=\"text-align: right;\">\n",
       "      <th></th>\n",
       "      <th>loss</th>\n",
       "      <th>keras_rmse</th>\n",
       "      <th>r_square</th>\n",
       "      <th>val_loss</th>\n",
       "      <th>val_keras_rmse</th>\n",
       "      <th>val_r_square</th>\n",
       "      <th>epoch</th>\n",
       "    </tr>\n",
       "  </thead>\n",
       "  <tbody>\n",
       "    <tr>\n",
       "      <th>995</th>\n",
       "      <td>0.037209</td>\n",
       "      <td>0.142842</td>\n",
       "      <td>0.745347</td>\n",
       "      <td>0.056087</td>\n",
       "      <td>0.205584</td>\n",
       "      <td>0.565152</td>\n",
       "      <td>995</td>\n",
       "    </tr>\n",
       "    <tr>\n",
       "      <th>996</th>\n",
       "      <td>0.042470</td>\n",
       "      <td>0.171571</td>\n",
       "      <td>0.708055</td>\n",
       "      <td>0.028807</td>\n",
       "      <td>0.126647</td>\n",
       "      <td>0.809660</td>\n",
       "      <td>996</td>\n",
       "    </tr>\n",
       "    <tr>\n",
       "      <th>997</th>\n",
       "      <td>0.037761</td>\n",
       "      <td>0.167405</td>\n",
       "      <td>0.741348</td>\n",
       "      <td>0.061249</td>\n",
       "      <td>0.216940</td>\n",
       "      <td>0.514857</td>\n",
       "      <td>997</td>\n",
       "    </tr>\n",
       "    <tr>\n",
       "      <th>998</th>\n",
       "      <td>0.041794</td>\n",
       "      <td>0.166675</td>\n",
       "      <td>0.720006</td>\n",
       "      <td>0.027188</td>\n",
       "      <td>0.127186</td>\n",
       "      <td>0.802236</td>\n",
       "      <td>998</td>\n",
       "    </tr>\n",
       "    <tr>\n",
       "      <th>999</th>\n",
       "      <td>0.041941</td>\n",
       "      <td>0.181710</td>\n",
       "      <td>0.705117</td>\n",
       "      <td>0.040555</td>\n",
       "      <td>0.162021</td>\n",
       "      <td>0.724488</td>\n",
       "      <td>999</td>\n",
       "    </tr>\n",
       "  </tbody>\n",
       "</table>\n",
       "</div>"
      ],
      "text/plain": [
       "         loss  keras_rmse  r_square  val_loss  val_keras_rmse  val_r_square  \\\n",
       "995  0.037209    0.142842  0.745347  0.056087        0.205584      0.565152   \n",
       "996  0.042470    0.171571  0.708055  0.028807        0.126647      0.809660   \n",
       "997  0.037761    0.167405  0.741348  0.061249        0.216940      0.514857   \n",
       "998  0.041794    0.166675  0.720006  0.027188        0.127186      0.802236   \n",
       "999  0.041941    0.181710  0.705117  0.040555        0.162021      0.724488   \n",
       "\n",
       "     epoch  \n",
       "995    995  \n",
       "996    996  \n",
       "997    997  \n",
       "998    998  \n",
       "999    999  "
      ]
     },
     "execution_count": 66,
     "metadata": {},
     "output_type": "execute_result"
    }
   ],
   "source": [
    "hist = pd.DataFrame(history.history)\n",
    "hist['epoch'] = history.epoch\n",
    "hist.tail()"
   ]
  },
  {
   "cell_type": "code",
   "execution_count": 67,
   "metadata": {},
   "outputs": [],
   "source": [
    "plotter = tfdocs.plots.HistoryPlotter(smoothing_std=2)"
   ]
  },
  {
   "cell_type": "code",
   "execution_count": 70,
   "metadata": {},
   "outputs": [
    {
     "data": {
      "text/plain": [
       "Text(0, 0.5, 'RMSE [SalePrice]')"
      ]
     },
     "execution_count": 70,
     "metadata": {},
     "output_type": "execute_result"
    },
    {
     "data": {
      "image/png": "[encoded data removed]",
      "text/plain": [
       "<Figure size 432x288 with 1 Axes>"
      ]
     },
     "metadata": {},
     "output_type": "display_data"
    }
   ],
   "source": [
    "plotter.plot({'Basic': history}, metric = \"keras_rmse\")\n",
    "plt.ylim([0,5])\n",
    "plt.ylabel('RMSE [SalePrice]')"
   ]
  },
  {
   "cell_type": "markdown",
   "metadata": {},
   "source": [
    "__Findings__: Both the training and validation loss decrease  as the number of epochs is increased, suggesting that the model gains a high degree of accuracy\n",
    "    as our epochs (or number of forward and backward passes) is increased"
   ]
  },
  {
   "cell_type": "markdown",
   "metadata": {},
   "source": [
    "# Conclusion: \n",
    "\n",
    "We have tried to predict the housing prices using regression techniques. The most of the time we have spent in\n",
    "Feature Engineering. The results are promising good if we remove the skewness of the data. "
   ]
  }
 ],
 "metadata": {
  "kernelspec": {
   "display_name": "Python 3",
   "language": "python",
   "name": "python3"
  },
  "language_info": {
   "codemirror_mode": {
    "name": "ipython",
    "version": 3
   },
   "file_extension": ".py",
   "mimetype": "text/x-python",
   "name": "python",
   "nbconvert_exporter": "python",
   "pygments_lexer": "ipython3",
   "version": "3.7.3"
  }
 },
 "nbformat": 4,
 "nbformat_minor": 4
}
